{
 "cells": [
  {
   "cell_type": "code",
   "execution_count": 31,
   "metadata": {},
   "outputs": [
    {
     "data": {
      "text/plain": [
       "'fbpost.settings'"
      ]
     },
     "execution_count": 31,
     "metadata": {},
     "output_type": "execute_result"
    }
   ],
   "source": [
    "import django\n",
    "import os\n",
    "os.environ.setdefault('DJANGO_SETTINGS_MODULE', 'fbpost.settings')"
   ]
  },
  {
   "cell_type": "code",
   "execution_count": 2,
   "metadata": {},
   "outputs": [],
   "source": [
    "django.setup()"
   ]
  },
  {
   "cell_type": "code",
   "execution_count": 3,
   "metadata": {},
   "outputs": [],
   "source": [
    "from postv1.models import User ,Post ,Reaction"
   ]
  },
  {
   "cell_type": "code",
   "execution_count": 4,
   "metadata": {},
   "outputs": [],
   "source": [
    "u1=User(name='kmk',profile_pic_url=\"xyz.com\")\n",
    "u1.save()"
   ]
  },
  {
   "cell_type": "code",
   "execution_count": 5,
   "metadata": {},
   "outputs": [],
   "source": [
    "u2=User(name='mohan',profile_pic_url='mohan@xyz.com')\n",
    "u2.save()"
   ]
  },
  {
   "cell_type": "code",
   "execution_count": 6,
   "metadata": {},
   "outputs": [
    {
     "data": {
      "text/plain": [
       "<QuerySet [<User: User object (1)>, <User: User object (2)>, <User: User object (4)>, <User: User object (5)>, <User: User object (6)>, <User: User object (7)>, <User: User object (8)>]>"
      ]
     },
     "execution_count": 6,
     "metadata": {},
     "output_type": "execute_result"
    }
   ],
   "source": [
    "User.objects.all()"
   ]
  },
  {
   "cell_type": "code",
   "execution_count": 7,
   "metadata": {},
   "outputs": [],
   "source": [
    "import datetime"
   ]
  },
  {
   "cell_type": "code",
   "execution_count": 8,
   "metadata": {},
   "outputs": [],
   "source": [
    "p1=Post(posted_by=u1,content='kmk first post')\n",
    "p1.save()\n",
    "\n",
    "p2=Post(posted_by=u2,content='mohan first post')\n",
    "p2.save()\n"
   ]
  },
  {
   "cell_type": "code",
   "execution_count": 9,
   "metadata": {},
   "outputs": [
    {
     "data": {
      "text/plain": [
       "<QuerySet [<Post: Post object (14)>]>"
      ]
     },
     "execution_count": 9,
     "metadata": {},
     "output_type": "execute_result"
    }
   ],
   "source": [
    "u1.posts.all()"
   ]
  },
  {
   "cell_type": "code",
   "execution_count": 10,
   "metadata": {},
   "outputs": [
    {
     "data": {
      "text/plain": [
       "<QuerySet [<Post: Post object (15)>]>"
      ]
     },
     "execution_count": 10,
     "metadata": {},
     "output_type": "execute_result"
    }
   ],
   "source": [
    "u2.posts.all()"
   ]
  },
  {
   "cell_type": "code",
   "execution_count": 11,
   "metadata": {},
   "outputs": [],
   "source": [
    "r1=Reaction(user=u1,reaction=\"HAHA\",post=p1)\n",
    "r1.save()\n",
    "\n",
    "r2=Reaction(user=u2,reaction=\"WOW\",post=p2)\n",
    "r2.save()\n"
   ]
  },
  {
   "cell_type": "code",
   "execution_count": 12,
   "metadata": {},
   "outputs": [
    {
     "data": {
      "text/plain": [
       "<QuerySet [<Reaction: Reaction object (18)>]>"
      ]
     },
     "execution_count": 12,
     "metadata": {},
     "output_type": "execute_result"
    }
   ],
   "source": [
    "u1.reactions.all()"
   ]
  },
  {
   "cell_type": "code",
   "execution_count": 13,
   "metadata": {},
   "outputs": [
    {
     "data": {
      "text/plain": [
       "<QuerySet [<Reaction: Reaction object (18)>]>"
      ]
     },
     "execution_count": 13,
     "metadata": {},
     "output_type": "execute_result"
    }
   ],
   "source": [
    "p1.reactions.all()"
   ]
  },
  {
   "cell_type": "code",
   "execution_count": 14,
   "metadata": {},
   "outputs": [
    {
     "name": "stdout",
     "output_type": "stream",
     "text": [
      "{'posted_id': 1, 'posted_at': '2019-07-03 10:09:57.202121+00:00', 'post_content': 'kmk first post', 'posted_by': {'name': 'kmk', 'user_id': 1, 'profile_pic_url': 'xyz.com'}, 'reactions': {'count': 4, 'type': ['WOW', 'HAHA']}}\n"
     ]
    }
   ],
   "source": [
    "def get_post(post_id):\n",
    "\n",
    "    \n",
    "    result=dict()\n",
    "    try:\n",
    "        post=Post.objects.get(id=post_id)\n",
    "    except Post.DoesNotExist:\n",
    "        raise Exception(\"User not found\")\n",
    "        \n",
    "        \n",
    "    result.update({\"posted_id\":post_id})\n",
    "\n",
    "    result.update({\"posted_at\":str(post.posted_at)})\n",
    "\n",
    "    result.update({\"post_content\":post.content})\n",
    "    \n",
    "    reactionslist=[]\n",
    "    \n",
    "    #fetching user data\n",
    "    userdata={}\n",
    "    \n",
    "    userdata.update({\"name\":post.posted_by.name})\n",
    "    userdata.update({\"user_id\":post.posted_by.id})\n",
    "    userdata.update({\"profile_pic_url\":post.posted_by.profile_pic_url})\n",
    "    \n",
    "    result.update({\"posted_by\":userdata})\n",
    "    \n",
    "    \n",
    "    \n",
    "    \n",
    "    \n",
    "    #fetching reactions data\n",
    "    \n",
    "    for x in post.reactions.all():\n",
    "        reactionslist.append(x.reaction)\n",
    "        \n",
    "    reactiondata={}\n",
    "    reactiondata.update({\"count\":len(reactionslist)})\n",
    "    reactiondata.update({\"type\":list(set(reactionslist))})\n",
    "    \n",
    "    \n",
    "    result.update({\"reactions\":reactiondata})\n",
    "    \n",
    "    \n",
    "    return result\n",
    "\n",
    "\n",
    "\n",
    "\n",
    "print(get_post(1))\n"
   ]
  },
  {
   "cell_type": "code",
   "execution_count": 15,
   "metadata": {},
   "outputs": [],
   "source": [
    "p3=Post(content='kmk second post',posted_by=u1)\n",
    "p3.save()"
   ]
  },
  {
   "cell_type": "code",
   "execution_count": 16,
   "metadata": {},
   "outputs": [
    {
     "data": {
      "text/plain": [
       "<User: User object (1)>"
      ]
     },
     "execution_count": 16,
     "metadata": {},
     "output_type": "execute_result"
    }
   ],
   "source": [
    "User.objects.get(id=1)"
   ]
  },
  {
   "cell_type": "code",
   "execution_count": 17,
   "metadata": {},
   "outputs": [],
   "source": [
    "post=User.objects.get(id=1).posts.all()"
   ]
  },
  {
   "cell_type": "code",
   "execution_count": 18,
   "metadata": {},
   "outputs": [
    {
     "data": {
      "text/plain": [
       "<QuerySet [<Post: Post object (1)>, <Post: Post object (12)>, <Post: Post object (13)>]>"
      ]
     },
     "execution_count": 18,
     "metadata": {},
     "output_type": "execute_result"
    }
   ],
   "source": [
    "post"
   ]
  },
  {
   "cell_type": "code",
   "execution_count": 19,
   "metadata": {},
   "outputs": [],
   "source": [
    "def get_user_posts(user_id):\n",
    "    \n",
    "    \n",
    "    try:\n",
    "        user=User.objects.get(id=user_id)\n",
    "    except User.DoesNotExist:\n",
    "        raise Exception(\"User not found\")\n",
    "    posts=user.posts.all()\n",
    "    \n",
    "    \n",
    "    result=list()\n",
    "    \n",
    "    for post in posts:\n",
    "        \n",
    "        result.append(get_post(post.id))\n",
    "        \n",
    "    return result\n",
    "    \n",
    "    "
   ]
  },
  {
   "cell_type": "code",
   "execution_count": 20,
   "metadata": {},
   "outputs": [
    {
     "data": {
      "text/plain": [
       "[{'posted_id': 2,\n",
       "  'posted_at': '2019-07-03 10:10:02.869926+00:00',\n",
       "  'post_content': 'mohan first post',\n",
       "  'posted_by': {'name': 'mohan',\n",
       "   'user_id': 2,\n",
       "   'profile_pic_url': 'mohan@xyz.com'},\n",
       "  'reactions': {'count': 2, 'type': ['WOW', 'LIKE']}}]"
      ]
     },
     "execution_count": 20,
     "metadata": {},
     "output_type": "execute_result"
    }
   ],
   "source": [
    "get_user_posts(2)"
   ]
  },
  {
   "cell_type": "code",
   "execution_count": 21,
   "metadata": {},
   "outputs": [
    {
     "data": {
      "text/plain": [
       "<QuerySet [<User: User object (1)>, <User: User object (2)>, <User: User object (4)>, <User: User object (5)>, <User: User object (6)>, <User: User object (7)>, <User: User object (8)>]>"
      ]
     },
     "execution_count": 21,
     "metadata": {},
     "output_type": "execute_result"
    }
   ],
   "source": [
    "User.objects.all()"
   ]
  },
  {
   "cell_type": "code",
   "execution_count": 22,
   "metadata": {},
   "outputs": [],
   "source": [
    "u3=User(name=\"mohan2\",profile_pic_url=\"mohan2@xyz.com\")\n",
    "u3.save()"
   ]
  },
  {
   "cell_type": "code",
   "execution_count": 23,
   "metadata": {},
   "outputs": [
    {
     "data": {
      "text/plain": [
       "<QuerySet [<Post: Post object (1)>, <Post: Post object (2)>, <Post: Post object (7)>, <Post: Post object (8)>, <Post: Post object (9)>, <Post: Post object (10)>, <Post: Post object (11)>, <Post: Post object (12)>, <Post: Post object (13)>, <Post: Post object (14)>, <Post: Post object (15)>, <Post: Post object (16)>]>"
      ]
     },
     "execution_count": 23,
     "metadata": {},
     "output_type": "execute_result"
    }
   ],
   "source": [
    "Post.objects.all()"
   ]
  },
  {
   "cell_type": "code",
   "execution_count": 24,
   "metadata": {},
   "outputs": [],
   "source": [
    "p4=Post(content=\"to be deleted post\",posted_by=u3)\n",
    "p4.save()"
   ]
  },
  {
   "cell_type": "code",
   "execution_count": null,
   "metadata": {},
   "outputs": [],
   "source": []
  },
  {
   "cell_type": "code",
   "execution_count": 25,
   "metadata": {},
   "outputs": [],
   "source": [
    "r3=Reaction(user=u3,reaction=\"HAHA\",post=p4)\n",
    "r3.save()"
   ]
  },
  {
   "cell_type": "code",
   "execution_count": 26,
   "metadata": {},
   "outputs": [],
   "source": [
    "p4=Post(content=\"to be deleted post\",posted_by=u3)\n",
    "p4.save()"
   ]
  },
  {
   "cell_type": "code",
   "execution_count": 27,
   "metadata": {},
   "outputs": [],
   "source": [
    "r3=Reaction(user=u3,reaction=\"HAHA\",post=p4)\n",
    "r3.save()"
   ]
  },
  {
   "cell_type": "code",
   "execution_count": 28,
   "metadata": {},
   "outputs": [
    {
     "data": {
      "text/plain": [
       "<QuerySet [<Reaction: Reaction object (1)>, <Reaction: Reaction object (2)>, <Reaction: Reaction object (7)>, <Reaction: Reaction object (8)>, <Reaction: Reaction object (9)>, <Reaction: Reaction object (10)>, <Reaction: Reaction object (11)>, <Reaction: Reaction object (12)>, <Reaction: Reaction object (13)>, <Reaction: Reaction object (14)>, <Reaction: Reaction object (15)>, <Reaction: Reaction object (16)>, <Reaction: Reaction object (17)>, <Reaction: Reaction object (18)>, <Reaction: Reaction object (19)>, <Reaction: Reaction object (20)>, <Reaction: Reaction object (21)>]>"
      ]
     },
     "execution_count": 28,
     "metadata": {},
     "output_type": "execute_result"
    }
   ],
   "source": [
    "Reaction.objects.all()"
   ]
  },
  {
   "cell_type": "code",
   "execution_count": 29,
   "metadata": {},
   "outputs": [
    {
     "data": {
      "text/plain": [
       "<QuerySet [<Reaction: Reaction object (12)>]>"
      ]
     },
     "execution_count": 29,
     "metadata": {},
     "output_type": "execute_result"
    }
   ],
   "source": [
    "Post.objects.all()[3].reactions.all()"
   ]
  },
  {
   "cell_type": "code",
   "execution_count": 30,
   "metadata": {},
   "outputs": [
    {
     "ename": "AttributeError",
     "evalue": "'QuerySet' object has no attribute 'DoesNotExist'",
     "output_type": "error",
     "traceback": [
      "\u001b[0;31m---------------------------------------------------------------------------\u001b[0m",
      "\u001b[0;31mDoesNotExist\u001b[0m                              Traceback (most recent call last)",
      "\u001b[0;32m<ipython-input-30-ca81a096dfec>\u001b[0m in \u001b[0;36mdelete_post\u001b[0;34m(post_id)\u001b[0m\n\u001b[1;32m      3\u001b[0m     \u001b[0;32mtry\u001b[0m\u001b[0;34m:\u001b[0m\u001b[0;34m\u001b[0m\u001b[0;34m\u001b[0m\u001b[0m\n\u001b[0;32m----> 4\u001b[0;31m         \u001b[0mpost_to_delete\u001b[0m\u001b[0;34m=\u001b[0m\u001b[0mPost\u001b[0m\u001b[0;34m.\u001b[0m\u001b[0mobjects\u001b[0m\u001b[0;34m.\u001b[0m\u001b[0mget\u001b[0m\u001b[0;34m(\u001b[0m\u001b[0mid\u001b[0m\u001b[0;34m=\u001b[0m\u001b[0mpost_id\u001b[0m\u001b[0;34m)\u001b[0m\u001b[0;34m\u001b[0m\u001b[0;34m\u001b[0m\u001b[0m\n\u001b[0m\u001b[1;32m      5\u001b[0m     \u001b[0;32mexcept\u001b[0m \u001b[0mpost\u001b[0m\u001b[0;34m.\u001b[0m\u001b[0mDoesNotExist\u001b[0m\u001b[0;34m:\u001b[0m\u001b[0;34m\u001b[0m\u001b[0;34m\u001b[0m\u001b[0m\n",
      "\u001b[0;32m~/PycharmProjects/fbpost/venv/lib/python3.7/site-packages/django/db/models/manager.py\u001b[0m in \u001b[0;36mmanager_method\u001b[0;34m(self, *args, **kwargs)\u001b[0m\n\u001b[1;32m     81\u001b[0m             \u001b[0;32mdef\u001b[0m \u001b[0mmanager_method\u001b[0m\u001b[0;34m(\u001b[0m\u001b[0mself\u001b[0m\u001b[0;34m,\u001b[0m \u001b[0;34m*\u001b[0m\u001b[0margs\u001b[0m\u001b[0;34m,\u001b[0m \u001b[0;34m**\u001b[0m\u001b[0mkwargs\u001b[0m\u001b[0;34m)\u001b[0m\u001b[0;34m:\u001b[0m\u001b[0;34m\u001b[0m\u001b[0;34m\u001b[0m\u001b[0m\n\u001b[0;32m---> 82\u001b[0;31m                 \u001b[0;32mreturn\u001b[0m \u001b[0mgetattr\u001b[0m\u001b[0;34m(\u001b[0m\u001b[0mself\u001b[0m\u001b[0;34m.\u001b[0m\u001b[0mget_queryset\u001b[0m\u001b[0;34m(\u001b[0m\u001b[0;34m)\u001b[0m\u001b[0;34m,\u001b[0m \u001b[0mname\u001b[0m\u001b[0;34m)\u001b[0m\u001b[0;34m(\u001b[0m\u001b[0;34m*\u001b[0m\u001b[0margs\u001b[0m\u001b[0;34m,\u001b[0m \u001b[0;34m**\u001b[0m\u001b[0mkwargs\u001b[0m\u001b[0;34m)\u001b[0m\u001b[0;34m\u001b[0m\u001b[0;34m\u001b[0m\u001b[0m\n\u001b[0m\u001b[1;32m     83\u001b[0m             \u001b[0mmanager_method\u001b[0m\u001b[0;34m.\u001b[0m\u001b[0m__name__\u001b[0m \u001b[0;34m=\u001b[0m \u001b[0mmethod\u001b[0m\u001b[0;34m.\u001b[0m\u001b[0m__name__\u001b[0m\u001b[0;34m\u001b[0m\u001b[0;34m\u001b[0m\u001b[0m\n",
      "\u001b[0;32m~/PycharmProjects/fbpost/venv/lib/python3.7/site-packages/django/db/models/query.py\u001b[0m in \u001b[0;36mget\u001b[0;34m(self, *args, **kwargs)\u001b[0m\n\u001b[1;32m    407\u001b[0m                 \u001b[0;34m\"%s matching query does not exist.\"\u001b[0m \u001b[0;34m%\u001b[0m\u001b[0;34m\u001b[0m\u001b[0;34m\u001b[0m\u001b[0m\n\u001b[0;32m--> 408\u001b[0;31m                 \u001b[0mself\u001b[0m\u001b[0;34m.\u001b[0m\u001b[0mmodel\u001b[0m\u001b[0;34m.\u001b[0m\u001b[0m_meta\u001b[0m\u001b[0;34m.\u001b[0m\u001b[0mobject_name\u001b[0m\u001b[0;34m\u001b[0m\u001b[0;34m\u001b[0m\u001b[0m\n\u001b[0m\u001b[1;32m    409\u001b[0m             )\n",
      "\u001b[0;31mDoesNotExist\u001b[0m: Post matching query does not exist.",
      "\nDuring handling of the above exception, another exception occurred:\n",
      "\u001b[0;31mAttributeError\u001b[0m                            Traceback (most recent call last)",
      "\u001b[0;32m<ipython-input-30-ca81a096dfec>\u001b[0m in \u001b[0;36m<module>\u001b[0;34m\u001b[0m\n\u001b[1;32m      7\u001b[0m     \u001b[0mpost_to_delete\u001b[0m\u001b[0;34m.\u001b[0m\u001b[0mdelete\u001b[0m\u001b[0;34m(\u001b[0m\u001b[0;34m)\u001b[0m\u001b[0;34m\u001b[0m\u001b[0;34m\u001b[0m\u001b[0m\n\u001b[1;32m      8\u001b[0m \u001b[0;34m\u001b[0m\u001b[0m\n\u001b[0;32m----> 9\u001b[0;31m \u001b[0mdelete_post\u001b[0m\u001b[0;34m(\u001b[0m\u001b[0;36m6\u001b[0m\u001b[0;34m)\u001b[0m\u001b[0;34m\u001b[0m\u001b[0;34m\u001b[0m\u001b[0m\n\u001b[0m\u001b[1;32m     10\u001b[0m \u001b[0;34m\u001b[0m\u001b[0m\n",
      "\u001b[0;32m<ipython-input-30-ca81a096dfec>\u001b[0m in \u001b[0;36mdelete_post\u001b[0;34m(post_id)\u001b[0m\n\u001b[1;32m      3\u001b[0m     \u001b[0;32mtry\u001b[0m\u001b[0;34m:\u001b[0m\u001b[0;34m\u001b[0m\u001b[0;34m\u001b[0m\u001b[0m\n\u001b[1;32m      4\u001b[0m         \u001b[0mpost_to_delete\u001b[0m\u001b[0;34m=\u001b[0m\u001b[0mPost\u001b[0m\u001b[0;34m.\u001b[0m\u001b[0mobjects\u001b[0m\u001b[0;34m.\u001b[0m\u001b[0mget\u001b[0m\u001b[0;34m(\u001b[0m\u001b[0mid\u001b[0m\u001b[0;34m=\u001b[0m\u001b[0mpost_id\u001b[0m\u001b[0;34m)\u001b[0m\u001b[0;34m\u001b[0m\u001b[0;34m\u001b[0m\u001b[0m\n\u001b[0;32m----> 5\u001b[0;31m     \u001b[0;32mexcept\u001b[0m \u001b[0mpost\u001b[0m\u001b[0;34m.\u001b[0m\u001b[0mDoesNotExist\u001b[0m\u001b[0;34m:\u001b[0m\u001b[0;34m\u001b[0m\u001b[0;34m\u001b[0m\u001b[0m\n\u001b[0m\u001b[1;32m      6\u001b[0m         \u001b[0;32mraise\u001b[0m \u001b[0mException\u001b[0m\u001b[0;34m(\u001b[0m\u001b[0;34m\"Post not Found\"\u001b[0m\u001b[0;34m)\u001b[0m\u001b[0;34m\u001b[0m\u001b[0;34m\u001b[0m\u001b[0m\n\u001b[1;32m      7\u001b[0m     \u001b[0mpost_to_delete\u001b[0m\u001b[0;34m.\u001b[0m\u001b[0mdelete\u001b[0m\u001b[0;34m(\u001b[0m\u001b[0;34m)\u001b[0m\u001b[0;34m\u001b[0m\u001b[0;34m\u001b[0m\u001b[0m\n",
      "\u001b[0;31mAttributeError\u001b[0m: 'QuerySet' object has no attribute 'DoesNotExist'"
     ]
    }
   ],
   "source": [
    "def delete_post(post_id):\n",
    "    \n",
    "    try:\n",
    "        post_to_delete=Post.objects.get(id=post_id)\n",
    "    except post.DoesNotExist:\n",
    "        raise Exception(\"Post not Found\")\n",
    "    post_to_delete.delete()\n",
    "    \n",
    "delete_post(6)\n",
    "    "
   ]
  },
  {
   "cell_type": "code",
   "execution_count": null,
   "metadata": {},
   "outputs": [],
   "source": [
    "User.objects.all()"
   ]
  },
  {
   "cell_type": "code",
   "execution_count": null,
   "metadata": {},
   "outputs": [],
   "source": [
    "Reaction.objects.all()"
   ]
  },
  {
   "cell_type": "code",
   "execution_count": null,
   "metadata": {},
   "outputs": [],
   "source": [
    "u2.posts.all()[0].id"
   ]
  },
  {
   "cell_type": "code",
   "execution_count": null,
   "metadata": {},
   "outputs": [],
   "source": [
    "def react_to_post(user_id,post_id,reaction_type):\n",
    "    \n",
    "    try:\n",
    "        u=User.objects.get(id=user_id)\n",
    "    except User.DoesNotExist:\n",
    "        raise Exception(\"User does not exist\")\n",
    "        \n",
    "    try:    \n",
    "        p=Post.objects.get(id=post_id)\n",
    "    except Post.DoesNotExist:\n",
    "        raise Exception(\"Post does not exist\")\n",
    "     \n",
    "    if reaction_type not in [\"HAHA\",\"WOW\",\"LIKE\",\"LOVE\",\"SAD\"]:\n",
    "        raise Exception(\"Reaction does not exist\")\n",
    "        \n",
    "       \n",
    "    try :\n",
    "        react=Reaction.objects.get(user_id=u.id , post_id=p.id)\n",
    "        if react.reaction==reaction_type:\n",
    "            react.delete()\n",
    "        else:\n",
    "            react.reaction=reaction_type\n",
    "            react.save()  \n",
    "    \n",
    "    except:\n",
    "        \n",
    "               \n",
    "        Reaction.objects.create(user=u,reaction=reaction_type,post=p)\n",
    "        \n",
    "        \n",
    "        \n",
    "        \n",
    "    \n",
    "    \n",
    "    \n",
    "    \n",
    "    \n",
    "    \n",
    "    \n",
    "\n",
    "\n"
   ]
  },
  {
   "cell_type": "code",
   "execution_count": null,
   "metadata": {},
   "outputs": [],
   "source": [
    "User.objects.all()[0].posts.all()[0].reactions.all()[0].reaction\n",
    "Reaction.objects.all()[0].post.reactions.all()[0].reaction"
   ]
  },
  {
   "cell_type": "code",
   "execution_count": null,
   "metadata": {},
   "outputs": [],
   "source": [
    "react_to_post(1,11,\"WOW\")"
   ]
  },
  {
   "cell_type": "code",
   "execution_count": null,
   "metadata": {},
   "outputs": [],
   "source": [
    "Reaction.objects.all()[0].post.reactions.all()[0].reaction"
   ]
  },
  {
   "cell_type": "code",
   "execution_count": null,
   "metadata": {},
   "outputs": [],
   "source": [
    "Reaction.objects.all()"
   ]
  },
  {
   "cell_type": "code",
   "execution_count": null,
   "metadata": {},
   "outputs": [],
   "source": [
    "u1"
   ]
  },
  {
   "cell_type": "code",
   "execution_count": null,
   "metadata": {},
   "outputs": [],
   "source": [
    "p1\n"
   ]
  },
  {
   "cell_type": "code",
   "execution_count": null,
   "metadata": {},
   "outputs": [],
   "source": [
    "p1.save()"
   ]
  },
  {
   "cell_type": "code",
   "execution_count": null,
   "metadata": {},
   "outputs": [],
   "source": [
    "p2.save()"
   ]
  },
  {
   "cell_type": "code",
   "execution_count": null,
   "metadata": {},
   "outputs": [],
   "source": [
    "Post.objects.all()"
   ]
  },
  {
   "cell_type": "code",
   "execution_count": null,
   "metadata": {},
   "outputs": [],
   "source": [
    "r1"
   ]
  },
  {
   "cell_type": "code",
   "execution_count": null,
   "metadata": {},
   "outputs": [],
   "source": [
    "r1.save()"
   ]
  },
  {
   "cell_type": "code",
   "execution_count": null,
   "metadata": {},
   "outputs": [],
   "source": [
    "r2.save()"
   ]
  },
  {
   "cell_type": "code",
   "execution_count": null,
   "metadata": {},
   "outputs": [],
   "source": [
    "Reaction.objects.all()"
   ]
  },
  {
   "cell_type": "code",
   "execution_count": null,
   "metadata": {},
   "outputs": [],
   "source": [
    "r4=Reaction(user=u1,reaction=\"LIKE\",post=p2)\n",
    "r4.save()"
   ]
  },
  {
   "cell_type": "code",
   "execution_count": null,
   "metadata": {},
   "outputs": [],
   "source": [
    "def "
   ]
  },
  {
   "cell_type": "code",
   "execution_count": null,
   "metadata": {},
   "outputs": [],
   "source": [
    "def get_posts_reacted_by_user(user_id):\n",
    "    \n",
    "    try:\n",
    "        u=User.objects.get(id=user_id)\n",
    "    except User.DoesNotExist:\n",
    "        raise Exception(\"User does not exist\")\n",
    "        \n",
    "        \n",
    "    reactions=u.reactions.all()\n",
    "        \n",
    "        \n",
    "    postsdata=list()\n",
    "        \n",
    "    for x in reactions:\n",
    "        postsdata.append(get_post(x.post.id))\n",
    "        \n",
    "        \n",
    "    return postsdata\n",
    "\n",
    "\n",
    "\n",
    "\n",
    "get_posts_reacted_by_user(2)\n",
    "        \n",
    "    \n",
    "              \n",
    "\n",
    "        "
   ]
  },
  {
   "cell_type": "code",
   "execution_count": null,
   "metadata": {},
   "outputs": [],
   "source": [
    "def get_reactions_to_post(post_id):\n",
    "    \n",
    "    try:    \n",
    "        p=Post.objects.get(id=post_id)\n",
    "    except Post.DoesNotExist:\n",
    "        raise Exception(\"Post does not exist\")\n",
    "        \n",
    "    \n",
    "    reactions=p.reactions.all()\n",
    "    \n",
    "    result=[]\n",
    "    \n",
    "    \n",
    "    for x in reactions:\n",
    "        \n",
    "        temp={}\n",
    "        \n",
    "        temp.update({\"user_id\":x.user.id})\n",
    "        temp.update({\"name\":x.user.name})\n",
    "        temp.update({\"profile_pic\":x.user.profile_pic_url})\n",
    "        \n",
    "        temp.update({\"reaction\":x.reaction})\n",
    "        \n",
    "        result.append(temp)\n",
    "    \n",
    "    return result\n",
    "    \n",
    "get_reactions_to_post(2)\n",
    "        \n",
    "        \n",
    "        "
   ]
  },
  {
   "cell_type": "code",
   "execution_count": null,
   "metadata": {},
   "outputs": [],
   "source": [
    "for x in p1.reactions.all():\n",
    "    \n",
    "    print (x.reaction)"
   ]
  },
  {
   "cell_type": "code",
   "execution_count": null,
   "metadata": {},
   "outputs": [],
   "source": [
    "def get_reaction_metrics(post_id):\n",
    "    \n",
    "    try:    \n",
    "        p=Post.objects.get(id=post_id)\n",
    "    except Post.DoesNotExist:\n",
    "        raise Exception(\"Post does not exist\")\n",
    "    \n",
    "    \n",
    "    reactions=p.reactions.all()\n",
    "    \n",
    "    \n",
    "    reaction_metrics=list()\n",
    "    \n",
    "    metrics={}\n",
    "    \n",
    "    for x in reactions:\n",
    "        \n",
    "        if x.reaction in metrics.keys():\n",
    "            metrics[x.reaction]+=1\n",
    "        else:\n",
    "            metrics[x.reaction]=1\n",
    "\n",
    "    \n",
    "    \n",
    "    for key,values in metrics.items():\n",
    "        \n",
    "        temp={}\n",
    "        temp.update({\"reaction_type\":key})\n",
    "        temp.update({\"count\":values})\n",
    "        \n",
    "        reaction_metrics.append(temp)\n",
    "    \n",
    "    print(reaction_metrics)\n",
    "    \n",
    "get_reaction_metrics(1)\n",
    "        \n",
    "        \n",
    "        "
   ]
  },
  {
   "cell_type": "code",
   "execution_count": null,
   "metadata": {},
   "outputs": [],
   "source": [
    "def get_posts_with_more_positive_reactions():\n",
    "    \n",
    "    pos=[\"LIKE\",\"WOW\",\"LOVE\",\"HAHA\"]\n",
    "    negs=[\"SAD\",\"ANGRY\"]\n",
    "            \n",
    "    res_post_ids=list()\n",
    "    \n",
    "    for p in Post.objects.all():\n",
    "        \n",
    "        print(p)\n",
    "        reactions=p.reactions.all()\n",
    "        \n",
    "        check_count=list((0,0))\n",
    "        print(reactions)\n",
    "        \n",
    "        for r in reactions:\n",
    "            \n",
    "            if r.reaction in pos:\n",
    "                check_count[0]+=1\n",
    "            if r.reaction in negs:\n",
    "                check_count[1]+=1\n",
    "                \n",
    "            \n",
    "        if check_count[0]>check_count[1]:\n",
    "            \n",
    "            res_post_ids.append(p.id)\n",
    "        print(\"_______________\")    \n",
    "    \n",
    "    return res_post_ids\n",
    "            \n",
    "            \n",
    "            \n",
    "            \n",
    "            \n",
    "        \n",
    "        \n",
    "get_posts_with_more_positive_reactions()"
   ]
  },
  {
   "cell_type": "code",
   "execution_count": null,
   "metadata": {},
   "outputs": [],
   "source": [
    "temp=Post.objects.get(id=11)\n",
    "\n",
    "temp.reactions.all()[0].reaction"
   ]
  },
  {
   "cell_type": "code",
   "execution_count": null,
   "metadata": {},
   "outputs": [],
   "source": [
    "negr1=Reaction(user=u1,reaction=\"SAD\",post=temp)\n",
    "negr1.save()\n",
    "negr2=Reaction(user=u2,reaction=\"ANGRY\",post=temp)\n",
    "negr2.save()"
   ]
  },
  {
   "cell_type": "code",
   "execution_count": null,
   "metadata": {},
   "outputs": [],
   "source": []
  },
  {
   "cell_type": "code",
   "execution_count": null,
   "metadata": {},
   "outputs": [],
   "source": [
    "temp=User.objects.all()[0]"
   ]
  },
  {
   "cell_type": "code",
   "execution_count": null,
   "metadata": {},
   "outputs": [],
   "source": [
    "temp.posts.all()[2].content"
   ]
  },
  {
   "cell_type": "code",
   "execution_count": 32,
   "metadata": {},
   "outputs": [],
   "source": [
    "from postv1.models import User ,Post ,Comment ,Reaction\n"
   ]
  },
  {
   "cell_type": "code",
   "execution_count": 33,
   "metadata": {},
   "outputs": [
    {
     "data": {
      "text/plain": [
       "<QuerySet [<Post: Post object (1)>, <Post: Post object (2)>, <Post: Post object (7)>, <Post: Post object (8)>, <Post: Post object (9)>, <Post: Post object (10)>, <Post: Post object (11)>, <Post: Post object (12)>, <Post: Post object (13)>, <Post: Post object (14)>, <Post: Post object (15)>, <Post: Post object (16)>, <Post: Post object (17)>, <Post: Post object (18)>]>"
      ]
     },
     "execution_count": 33,
     "metadata": {},
     "output_type": "execute_result"
    }
   ],
   "source": [
    "Post.objects.all()"
   ]
  },
  {
   "cell_type": "code",
   "execution_count": 34,
   "metadata": {},
   "outputs": [
    {
     "data": {
      "text/plain": [
       "<QuerySet [<Reaction: Reaction object (1)>, <Reaction: Reaction object (2)>, <Reaction: Reaction object (7)>, <Reaction: Reaction object (8)>, <Reaction: Reaction object (9)>, <Reaction: Reaction object (10)>, <Reaction: Reaction object (11)>, <Reaction: Reaction object (12)>, <Reaction: Reaction object (13)>, <Reaction: Reaction object (14)>, <Reaction: Reaction object (15)>, <Reaction: Reaction object (16)>, <Reaction: Reaction object (17)>, <Reaction: Reaction object (18)>, <Reaction: Reaction object (19)>, <Reaction: Reaction object (20)>, <Reaction: Reaction object (21)>]>"
      ]
     },
     "execution_count": 34,
     "metadata": {},
     "output_type": "execute_result"
    }
   ],
   "source": [
    "Reaction.objects.all()"
   ]
  },
  {
   "cell_type": "code",
   "execution_count": 35,
   "metadata": {},
   "outputs": [
    {
     "data": {
      "text/plain": [
       "<QuerySet []>"
      ]
     },
     "execution_count": 35,
     "metadata": {},
     "output_type": "execute_result"
    }
   ],
   "source": [
    "Comment.objects.all()"
   ]
  },
  {
   "cell_type": "code",
   "execution_count": 36,
   "metadata": {},
   "outputs": [
    {
     "data": {
      "text/plain": [
       "<QuerySet [<User: User object (1)>, <User: User object (2)>, <User: User object (4)>, <User: User object (5)>, <User: User object (6)>, <User: User object (7)>, <User: User object (8)>, <User: User object (9)>]>"
      ]
     },
     "execution_count": 36,
     "metadata": {},
     "output_type": "execute_result"
    }
   ],
   "source": [
    "User.objects.all()"
   ]
  },
  {
   "cell_type": "code",
   "execution_count": 42,
   "metadata": {},
   "outputs": [
    {
     "data": {
      "text/plain": [
       "<QuerySet []>"
      ]
     },
     "execution_count": 42,
     "metadata": {},
     "output_type": "execute_result"
    }
   ],
   "source": [
    "User.objects.all()\n"
   ]
  },
  {
   "cell_type": "code",
   "execution_count": 43,
   "metadata": {},
   "outputs": [],
   "source": [
    "u1=User(name=\"kmk\",profile_pic_url=\"kmk@xyz.com\")\n",
    "u1.save()"
   ]
  },
  {
   "cell_type": "code",
   "execution_count": 44,
   "metadata": {},
   "outputs": [],
   "source": [
    "p1=Post(content=\"kmk first post\",posted_by=u1)\n",
    "p1.save()"
   ]
  },
  {
   "cell_type": "code",
   "execution_count": 62,
   "metadata": {},
   "outputs": [
    {
     "data": {
      "text/plain": [
       "2"
      ]
     },
     "execution_count": 62,
     "metadata": {},
     "output_type": "execute_result"
    }
   ],
   "source": [
    "def add_comment(post_id,comment_user_id,comment_text):\n",
    "    \n",
    "    try:\n",
    "        p=Post.objects.get(id=post_id)\n",
    "    except Post.DoesNotExist:\n",
    "        raise Exception(\"Post doesnot Exists\")\n",
    "    \n",
    "    try:\n",
    "        u=User.objects.get(id=comment_user_id)\n",
    "    except User.DoesNotExist:\n",
    "        raise Exception(\"User doesnot Exists\")\n",
    "\n",
    "    c=Comment.objects.create(content=comment_text,commented_by=u,post=p)\n",
    "    \n",
    "    \n",
    "    return c.id\n",
    "\n",
    "add_comment(19,10,\"first comment\")"
   ]
  },
  {
   "cell_type": "code",
   "execution_count": 61,
   "metadata": {},
   "outputs": [
    {
     "data": {
      "text/plain": [
       "'first comment'"
      ]
     },
     "execution_count": 61,
     "metadata": {},
     "output_type": "execute_result"
    }
   ],
   "source": [
    "Post.objects.all()[0].comments.all()[0].content"
   ]
  },
  {
   "cell_type": "code",
   "execution_count": 63,
   "metadata": {},
   "outputs": [
    {
     "data": {
      "text/plain": [
       "<QuerySet []>"
      ]
     },
     "execution_count": 63,
     "metadata": {},
     "output_type": "execute_result"
    }
   ],
   "source": [
    "Post.objects.all()[0].reactions.all()"
   ]
  },
  {
   "cell_type": "code",
   "execution_count": 64,
   "metadata": {},
   "outputs": [
    {
     "data": {
      "text/plain": [
       "<QuerySet []>"
      ]
     },
     "execution_count": 64,
     "metadata": {},
     "output_type": "execute_result"
    }
   ],
   "source": [
    "Comment.objects.all()[0].reactions.all()"
   ]
  },
  {
   "cell_type": "code",
   "execution_count": 67,
   "metadata": {},
   "outputs": [],
   "source": [
    "r1=Reaction(user=u1,reaction=\"HAHA\",post=p1)\n",
    "r1.save()"
   ]
  },
  {
   "cell_type": "code",
   "execution_count": 72,
   "metadata": {},
   "outputs": [
    {
     "data": {
      "text/plain": [
       "'HAHA'"
      ]
     },
     "execution_count": 72,
     "metadata": {},
     "output_type": "execute_result"
    }
   ],
   "source": [
    "Post.objects.all()[0].reactions.all()[0].reaction"
   ]
  },
  {
   "cell_type": "code",
   "execution_count": 71,
   "metadata": {},
   "outputs": [],
   "source": [
    "r2=Reaction(user=u1,reaction=\"LIKE\",comment=Comment.objects.get(id=2))\n",
    "r2.save()"
   ]
  },
  {
   "cell_type": "code",
   "execution_count": 74,
   "metadata": {},
   "outputs": [
    {
     "data": {
      "text/plain": [
       "<QuerySet [<Comment: Comment object (1)>, <Comment: Comment object (2)>]>"
      ]
     },
     "execution_count": 74,
     "metadata": {},
     "output_type": "execute_result"
    }
   ],
   "source": []
  },
  {
   "cell_type": "code",
   "execution_count": 93,
   "metadata": {},
   "outputs": [],
   "source": [
    "r2=Reaction(user=u1,reaction=\"Like\",comment=c)\n",
    "r2.save()"
   ]
  },
  {
   "cell_type": "code",
   "execution_count": 98,
   "metadata": {},
   "outputs": [
    {
     "data": {
      "text/plain": [
       "<QuerySet [<Reaction: Reaction object (22)>, <Reaction: Reaction object (24)>]>"
      ]
     },
     "execution_count": 98,
     "metadata": {},
     "output_type": "execute_result"
    }
   ],
   "source": []
  },
  {
   "cell_type": "code",
   "execution_count": 127,
   "metadata": {},
   "outputs": [
    {
     "name": "stdout",
     "output_type": "stream",
     "text": [
      "{'posted_id': 19, 'posted_at': '2019-07-04 07:31:56.343523', 'post_content': 'kmk first post', 'posted_by': {'name': 'kmk', 'user_id': 10, 'profile_pic_url': 'kmk@xyz.com'}, 'reactions': {'count': 1, 'type': ['HAHA']}, 'comments': [{'comment_id': 1, 'commenter': {'user_id': 10, 'name': 'kmk', 'profile_pic_url': 'kmk@xyz.com'}, 'commented_at': '2019-07-04 07:44:14.347524', 'comment_content:': 'first comment', 'reactions': {'count': 1, 'type': ['Like']}}], 'comments_count': 1}\n"
     ]
    }
   ],
   "source": [
    "def get_post(post_id):\n",
    "\n",
    "    \n",
    "    result=dict()\n",
    "    \n",
    "    try:\n",
    "        post=Post.objects.get(id=post_id)\n",
    "    except Post.DoesNotExist:\n",
    "        raise Exception(\"User not found\")\n",
    "       \n",
    "        \n",
    "    result.update({\"posted_id\":post_id})\n",
    "\n",
    "    result.update({\"posted_at\":str(post.posted_at)[:len(str(post.posted_at))-6]})\n",
    "\n",
    "    result.update({\"post_content\":post.content})\n",
    "    \n",
    "    reactionslist=[]\n",
    "    \n",
    "    #fetching user data\n",
    "    userdata={}\n",
    "    \n",
    "    userdata.update({\"name\":post.posted_by.name})\n",
    "    userdata.update({\"user_id\":post.posted_by.id})\n",
    "    userdata.update({\"profile_pic_url\":post.posted_by.profile_pic_url})\n",
    "    \n",
    "    result.update({\"posted_by\":userdata})\n",
    "    \n",
    "    \n",
    "    #fetching reactions data\n",
    "    \n",
    "    for x in post.reactions.all():\n",
    "        reactionslist.append(x.reaction)\n",
    "        \n",
    "    reactiondata={}\n",
    "    reactiondata.update({\"count\":len(reactionslist)})\n",
    "    reactiondata.update({\"type\":list(set(reactionslist))})\n",
    "    \n",
    "    \n",
    "    result.update({\"reactions\":reactiondata})\n",
    "    \n",
    "    \n",
    "    #getting comments\n",
    "    comments=post.comments.all()\n",
    "    comments_result=get_comments(comments)\n",
    "    \n",
    "    result.update({\"comments\":comments_result})\n",
    "    \n",
    "    \n",
    "    result.update({\"comments_count\":post.comments.count()})\n",
    "    \n",
    "    \n",
    "    return result\n",
    "\n",
    "def get_comments(comments):\n",
    "    \n",
    "    res_list = list()\n",
    "    \n",
    "    for x in comments:\n",
    "        res_dict = dict()\n",
    "        \n",
    "        res_dict.update({\"comment_id\":x.id})\n",
    "        \n",
    "        user_data = dict()\n",
    "        user_data.update({\"user_id\":x.commented_by.id})\n",
    "        user_data.update({\"name\":x.commented_by.name})\n",
    "        user_data.update({\"profile_pic_url\":x.commented_by.profile_pic_url})\n",
    "        \n",
    "        \n",
    "        res_dict.update({\"commenter\":user_data})\n",
    "        res_dict.update({\"commented_at\":str(x.commented_at)[:len(str(x.commented_at))-6]})\n",
    "        res_dict.update({\"comment_content:\":x.content})\n",
    "        \n",
    "        \n",
    "        reactionslist = []\n",
    "        #fetching reactions data\n",
    "    \n",
    "        for x in c.reactions.all():\n",
    "            reactionslist.append(x.reaction)\n",
    "        \n",
    "        reactiondata = {}\n",
    "        reactiondata.update({\"count\":c.reactions.count()})\n",
    "        reactiondata.update({\"type\":list(set(reactionslist))})\n",
    "        \n",
    "        res_dict.update({\"reactions\":reactiondata})\n",
    "    \n",
    "        \n",
    "        \n",
    "        res_list.append(res_dict)\n",
    "        \n",
    "    #print(res_list)\n",
    "    \n",
    "    return res_list\n",
    "\n",
    "print(get_post(19))\n",
    "\n",
    "    "
   ]
  },
  {
   "cell_type": "code",
   "execution_count": 136,
   "metadata": {},
   "outputs": [],
   "source": [
    "def react_to_comment(user_id, comment_id, reaction_type):\n",
    "    \n",
    "    try:\n",
    "        u = User.objects.get(id=user_id)\n",
    "    except User.DoesNotExist:\n",
    "        raise Exception(\"User does not exist\")\n",
    "\n",
    "    try:\n",
    "        c = Comment.objects.get(id=comment_id)\n",
    "    except Comment.DoesNotExist:\n",
    "        raise Exception(\"Comment does not exist\")\n",
    "\n",
    "    if reaction_type not in [\"HAHA\", \"WOW\", \"LIKE\", \"LOVE\", \"SAD\"]:\n",
    "        raise Exception(\"Reaction does not exist\")\n",
    "\n",
    "    try:\n",
    "        react = Reaction.objects.get(user_id=u.id, comment_id=c.id)\n",
    "        if react.reaction == reaction_type:\n",
    "            react.delete()\n",
    "        else:\n",
    "            react.reaction = reaction_type\n",
    "            react.save()\n",
    "\n",
    "    except:\n",
    "\n",
    "        Reaction.objects.create(user=u, reaction=reaction_type, comment=c)\n",
    "\n",
    "    \n",
    "    "
   ]
  },
  {
   "cell_type": "code",
   "execution_count": 174,
   "metadata": {},
   "outputs": [],
   "source": [
    "react_to_comment(10,1,\"WOW\")"
   ]
  },
  {
   "cell_type": "code",
   "execution_count": 175,
   "metadata": {},
   "outputs": [
    {
     "data": {
      "text/plain": [
       "'WOW'"
      ]
     },
     "execution_count": 175,
     "metadata": {},
     "output_type": "execute_result"
    }
   ],
   "source": [
    "Reaction.objects.all()[1].reaction"
   ]
  },
  {
   "cell_type": "code",
   "execution_count": null,
   "metadata": {},
   "outputs": [],
   "source": []
  },
  {
   "cell_type": "code",
   "execution_count": null,
   "metadata": {},
   "outputs": [],
   "source": []
  }
 ],
 "metadata": {
  "kernelspec": {
   "display_name": "Python 3",
   "language": "python",
   "name": "python3"
  },
  "language_info": {
   "codemirror_mode": {
    "name": "ipython",
    "version": 3
   },
   "file_extension": ".py",
   "mimetype": "text/x-python",
   "name": "python",
   "nbconvert_exporter": "python",
   "pygments_lexer": "ipython3",
   "version": "3.7.3"
  }
 },
 "nbformat": 4,
 "nbformat_minor": 2
}
