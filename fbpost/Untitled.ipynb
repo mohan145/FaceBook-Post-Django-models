{
 "cells": [
  {
   "cell_type": "code",
   "execution_count": 2,
   "metadata": {},
   "outputs": [
    {
     "data": {
      "text/plain": [
       "'fbpost.settings'"
      ]
     },
     "execution_count": 2,
     "metadata": {},
     "output_type": "execute_result"
    }
   ],
   "source": [
    "import django\n",
    "import os\n",
    "os.environ.setdefault('DJANGO_SETTINGS_MODULE', 'fbpost.settings')\n"
   ]
  },
  {
   "cell_type": "code",
   "execution_count": 3,
   "metadata": {},
   "outputs": [],
   "source": [
    "django.setup()"
   ]
  },
  {
   "cell_type": "code",
   "execution_count": 4,
   "metadata": {},
   "outputs": [],
   "source": [
    "from postv1.models import User ,Post ,Reaction"
   ]
  },
  {
   "cell_type": "code",
   "execution_count": 5,
   "metadata": {},
   "outputs": [],
   "source": [
    "u1=User(name='kmk',profile_pic_url=\"xyz.com\")\n",
    "u1.save()"
   ]
  },
  {
   "cell_type": "code",
   "execution_count": 6,
   "metadata": {},
   "outputs": [],
   "source": [
    "u2=User(name='mohan',profile_pic_url='mohan@xyz.com')\n",
    "u2.save()"
   ]
  },
  {
   "cell_type": "code",
   "execution_count": 16,
   "metadata": {},
   "outputs": [
    {
     "data": {
      "text/plain": [
       "<QuerySet [<User: User object (10)>, <User: User object (11)>, <User: User object (12)>, <User: User object (13)>, <User: User object (14)>, <User: User object (15)>, <User: User object (16)>, <User: User object (17)>, <User: User object (18)>, <User: User object (19)>, <User: User object (20)>, <User: User object (21)>, <User: User object (22)>]>"
      ]
     },
     "execution_count": 16,
     "metadata": {},
     "output_type": "execute_result"
    }
   ],
   "source": [
    "User.objects.all()"
   ]
  },
  {
   "cell_type": "code",
   "execution_count": 8,
   "metadata": {},
   "outputs": [],
   "source": [
    "import datetime"
   ]
  },
  {
   "cell_type": "code",
   "execution_count": 9,
   "metadata": {},
   "outputs": [],
   "source": [
    "p1=Post(posted_by=u1,content='kmk first post')\n",
    "p1.save()\n",
    "\n",
    "p2=Post(posted_by=u2,content='mohan first post')\n",
    "p2.save()\n"
   ]
  },
  {
   "cell_type": "code",
   "execution_count": 10,
   "metadata": {},
   "outputs": [
    {
     "data": {
      "text/plain": [
       "<QuerySet [<Post: Post object (32)>]>"
      ]
     },
     "execution_count": 10,
     "metadata": {},
     "output_type": "execute_result"
    }
   ],
   "source": [
    "u1.posts.all()"
   ]
  },
  {
   "cell_type": "code",
   "execution_count": 11,
   "metadata": {},
   "outputs": [
    {
     "data": {
      "text/plain": [
       "<QuerySet [<Post: Post object (33)>]>"
      ]
     },
     "execution_count": 11,
     "metadata": {},
     "output_type": "execute_result"
    }
   ],
   "source": [
    "u2.posts.all()"
   ]
  },
  {
   "cell_type": "code",
   "execution_count": 12,
   "metadata": {},
   "outputs": [],
   "source": [
    "r1=Reaction(user=u1,reaction=\"HAHA\",post=p1)\n",
    "r1.save()\n",
    "\n",
    "r2=Reaction(user=u2,reaction=\"WOW\",post=p2)\n",
    "r2.save()\n"
   ]
  },
  {
   "cell_type": "code",
   "execution_count": 13,
   "metadata": {},
   "outputs": [
    {
     "data": {
      "text/plain": [
       "<QuerySet [<Reaction: Reaction object (51)>]>"
      ]
     },
     "execution_count": 13,
     "metadata": {},
     "output_type": "execute_result"
    }
   ],
   "source": [
    "u1.reactions.all()"
   ]
  },
  {
   "cell_type": "code",
   "execution_count": 14,
   "metadata": {},
   "outputs": [
    {
     "data": {
      "text/plain": [
       "<QuerySet [<Reaction: Reaction object (51)>]>"
      ]
     },
     "execution_count": 14,
     "metadata": {},
     "output_type": "execute_result"
    }
   ],
   "source": [
    "p1.reactions.all()"
   ]
  },
  {
   "cell_type": "code",
   "execution_count": 15,
   "metadata": {},
   "outputs": [
    {
     "ename": "Exception",
     "evalue": "User not found",
     "output_type": "error",
     "traceback": [
      "\u001b[0;31m---------------------------------------------------------------------------\u001b[0m",
      "\u001b[0;31mDoesNotExist\u001b[0m                              Traceback (most recent call last)",
      "\u001b[0;32m<ipython-input-15-2887fd78159a>\u001b[0m in \u001b[0;36mget_post\u001b[0;34m(post_id)\u001b[0m\n\u001b[1;32m      5\u001b[0m     \u001b[0;32mtry\u001b[0m\u001b[0;34m:\u001b[0m\u001b[0;34m\u001b[0m\u001b[0;34m\u001b[0m\u001b[0m\n\u001b[0;32m----> 6\u001b[0;31m         \u001b[0mpost\u001b[0m\u001b[0;34m=\u001b[0m\u001b[0mPost\u001b[0m\u001b[0;34m.\u001b[0m\u001b[0mobjects\u001b[0m\u001b[0;34m.\u001b[0m\u001b[0mget\u001b[0m\u001b[0;34m(\u001b[0m\u001b[0mid\u001b[0m\u001b[0;34m=\u001b[0m\u001b[0mpost_id\u001b[0m\u001b[0;34m)\u001b[0m\u001b[0;34m\u001b[0m\u001b[0;34m\u001b[0m\u001b[0m\n\u001b[0m\u001b[1;32m      7\u001b[0m     \u001b[0;32mexcept\u001b[0m \u001b[0mPost\u001b[0m\u001b[0;34m.\u001b[0m\u001b[0mDoesNotExist\u001b[0m\u001b[0;34m:\u001b[0m\u001b[0;34m\u001b[0m\u001b[0;34m\u001b[0m\u001b[0m\n",
      "\u001b[0;32m~/fbpost/tempfbpost/fbpost/.venv/lib/python3.7/site-packages/django/db/models/manager.py\u001b[0m in \u001b[0;36mmanager_method\u001b[0;34m(self, *args, **kwargs)\u001b[0m\n\u001b[1;32m     81\u001b[0m             \u001b[0;32mdef\u001b[0m \u001b[0mmanager_method\u001b[0m\u001b[0;34m(\u001b[0m\u001b[0mself\u001b[0m\u001b[0;34m,\u001b[0m \u001b[0;34m*\u001b[0m\u001b[0margs\u001b[0m\u001b[0;34m,\u001b[0m \u001b[0;34m**\u001b[0m\u001b[0mkwargs\u001b[0m\u001b[0;34m)\u001b[0m\u001b[0;34m:\u001b[0m\u001b[0;34m\u001b[0m\u001b[0;34m\u001b[0m\u001b[0m\n\u001b[0;32m---> 82\u001b[0;31m                 \u001b[0;32mreturn\u001b[0m \u001b[0mgetattr\u001b[0m\u001b[0;34m(\u001b[0m\u001b[0mself\u001b[0m\u001b[0;34m.\u001b[0m\u001b[0mget_queryset\u001b[0m\u001b[0;34m(\u001b[0m\u001b[0;34m)\u001b[0m\u001b[0;34m,\u001b[0m \u001b[0mname\u001b[0m\u001b[0;34m)\u001b[0m\u001b[0;34m(\u001b[0m\u001b[0;34m*\u001b[0m\u001b[0margs\u001b[0m\u001b[0;34m,\u001b[0m \u001b[0;34m**\u001b[0m\u001b[0mkwargs\u001b[0m\u001b[0;34m)\u001b[0m\u001b[0;34m\u001b[0m\u001b[0;34m\u001b[0m\u001b[0m\n\u001b[0m\u001b[1;32m     83\u001b[0m             \u001b[0mmanager_method\u001b[0m\u001b[0;34m.\u001b[0m\u001b[0m__name__\u001b[0m \u001b[0;34m=\u001b[0m \u001b[0mmethod\u001b[0m\u001b[0;34m.\u001b[0m\u001b[0m__name__\u001b[0m\u001b[0;34m\u001b[0m\u001b[0;34m\u001b[0m\u001b[0m\n",
      "\u001b[0;32m~/fbpost/tempfbpost/fbpost/.venv/lib/python3.7/site-packages/django/db/models/query.py\u001b[0m in \u001b[0;36mget\u001b[0;34m(self, *args, **kwargs)\u001b[0m\n\u001b[1;32m    407\u001b[0m                 \u001b[0;34m\"%s matching query does not exist.\"\u001b[0m \u001b[0;34m%\u001b[0m\u001b[0;34m\u001b[0m\u001b[0;34m\u001b[0m\u001b[0m\n\u001b[0;32m--> 408\u001b[0;31m                 \u001b[0mself\u001b[0m\u001b[0;34m.\u001b[0m\u001b[0mmodel\u001b[0m\u001b[0;34m.\u001b[0m\u001b[0m_meta\u001b[0m\u001b[0;34m.\u001b[0m\u001b[0mobject_name\u001b[0m\u001b[0;34m\u001b[0m\u001b[0;34m\u001b[0m\u001b[0m\n\u001b[0m\u001b[1;32m    409\u001b[0m             )\n",
      "\u001b[0;31mDoesNotExist\u001b[0m: Post matching query does not exist.",
      "\nDuring handling of the above exception, another exception occurred:\n",
      "\u001b[0;31mException\u001b[0m                                 Traceback (most recent call last)",
      "\u001b[0;32m<ipython-input-15-2887fd78159a>\u001b[0m in \u001b[0;36m<module>\u001b[0;34m\u001b[0m\n\u001b[1;32m     48\u001b[0m \u001b[0;34m\u001b[0m\u001b[0m\n\u001b[1;32m     49\u001b[0m \u001b[0;34m\u001b[0m\u001b[0m\n\u001b[0;32m---> 50\u001b[0;31m \u001b[0mprint\u001b[0m\u001b[0;34m(\u001b[0m\u001b[0mget_post\u001b[0m\u001b[0;34m(\u001b[0m\u001b[0;36m1\u001b[0m\u001b[0;34m)\u001b[0m\u001b[0;34m)\u001b[0m\u001b[0;34m\u001b[0m\u001b[0;34m\u001b[0m\u001b[0m\n\u001b[0m",
      "\u001b[0;32m<ipython-input-15-2887fd78159a>\u001b[0m in \u001b[0;36mget_post\u001b[0;34m(post_id)\u001b[0m\n\u001b[1;32m      6\u001b[0m         \u001b[0mpost\u001b[0m\u001b[0;34m=\u001b[0m\u001b[0mPost\u001b[0m\u001b[0;34m.\u001b[0m\u001b[0mobjects\u001b[0m\u001b[0;34m.\u001b[0m\u001b[0mget\u001b[0m\u001b[0;34m(\u001b[0m\u001b[0mid\u001b[0m\u001b[0;34m=\u001b[0m\u001b[0mpost_id\u001b[0m\u001b[0;34m)\u001b[0m\u001b[0;34m\u001b[0m\u001b[0;34m\u001b[0m\u001b[0m\n\u001b[1;32m      7\u001b[0m     \u001b[0;32mexcept\u001b[0m \u001b[0mPost\u001b[0m\u001b[0;34m.\u001b[0m\u001b[0mDoesNotExist\u001b[0m\u001b[0;34m:\u001b[0m\u001b[0;34m\u001b[0m\u001b[0;34m\u001b[0m\u001b[0m\n\u001b[0;32m----> 8\u001b[0;31m         \u001b[0;32mraise\u001b[0m \u001b[0mException\u001b[0m\u001b[0;34m(\u001b[0m\u001b[0;34m\"User not found\"\u001b[0m\u001b[0;34m)\u001b[0m\u001b[0;34m\u001b[0m\u001b[0;34m\u001b[0m\u001b[0m\n\u001b[0m\u001b[1;32m      9\u001b[0m \u001b[0;34m\u001b[0m\u001b[0m\n\u001b[1;32m     10\u001b[0m \u001b[0;34m\u001b[0m\u001b[0m\n",
      "\u001b[0;31mException\u001b[0m: User not found"
     ]
    }
   ],
   "source": [
    "def get_post(post_id):\n",
    "\n",
    "    \n",
    "    result=dict()\n",
    "    try:\n",
    "        post=Post.objects.get(id=post_id)\n",
    "    except Post.DoesNotExist:\n",
    "        raise Exception(\"User not found\")\n",
    "        \n",
    "        \n",
    "    result.update({\"posted_id\":post_id})\n",
    "    result.update({\"posted_at\":str(post.posted_at)})\n",
    "\n",
    "    result.update({\"post_content\":post.content})\n",
    "    \n",
    "    reactionslist=[]\n",
    "    \n",
    "    #fetching user data\n",
    "    userdata={}\n",
    "    \n",
    "    userdata.update({\"name\":post.posted_by.name})\n",
    "    userdata.update({\"user_id\":post.posted_by.id})\n",
    "    userdata.update({\"profile_pic_url\":post.posted_by.profile_pic_url})\n",
    "    \n",
    "    result.update({\"posted_by\":userdata})\n",
    "    \n",
    "    #fetching reactions data\n",
    "    \n",
    "    for x in post.reactions.all():\n",
    "        reactionslist.append(x.reaction)\n",
    "        \n",
    "    reactiondata={}\n",
    "    reactiondata.update({\"count\":len(reactionslist)})\n",
    "    reactiondata.update({\"type\":list(set(reactionslist))})\n",
    "    \n",
    "    \n",
    "    result.update({\"reactions\":reactiondata})\n",
    "    \n",
    "    \n",
    "    return result\n",
    "\n",
    "\n",
    "\n",
    "\n",
    "print(get_post(1))\n"
   ]
  },
  {
   "cell_type": "code",
   "execution_count": null,
   "metadata": {},
   "outputs": [],
   "source": [
    "p3=Post(content='kmk second post',posted_by=u1)\n",
    "p3.save()"
   ]
  },
  {
   "cell_type": "code",
   "execution_count": null,
   "metadata": {},
   "outputs": [],
   "source": [
    "User.objects.get(id=1)"
   ]
  },
  {
   "cell_type": "code",
   "execution_count": null,
   "metadata": {},
   "outputs": [],
   "source": [
    "post=User.objects.get(id=1).posts.all()"
   ]
  },
  {
   "cell_type": "code",
   "execution_count": null,
   "metadata": {},
   "outputs": [],
   "source": [
    "post"
   ]
  },
  {
   "cell_type": "code",
   "execution_count": null,
   "metadata": {},
   "outputs": [],
   "source": [
    "def get_user_posts(user_id):\n",
    "    \n",
    "    \n",
    "    try:\n",
    "        user=User.objects.get(id=user_id)\n",
    "    except User.DoesNotExist:\n",
    "        raise Exception(\"User not found\")\n",
    "    posts=user.posts.all()\n",
    "    \n",
    "    \n",
    "    result=list()\n",
    "    \n",
    "    for post in posts:\n",
    "        \n",
    "        result.append(get_post(post.id))\n",
    "        \n",
    "    return result\n",
    "    \n",
    "    "
   ]
  },
  {
   "cell_type": "code",
   "execution_count": null,
   "metadata": {},
   "outputs": [],
   "source": [
    "get_user_posts(2)"
   ]
  },
  {
   "cell_type": "code",
   "execution_count": null,
   "metadata": {},
   "outputs": [],
   "source": [
    "User.objects.all()"
   ]
  },
  {
   "cell_type": "code",
   "execution_count": null,
   "metadata": {},
   "outputs": [],
   "source": [
    "u3=User(name=\"mohan2\",profile_pic_url=\"mohan2@xyz.com\")\n",
    "u3.save()"
   ]
  },
  {
   "cell_type": "code",
   "execution_count": null,
   "metadata": {},
   "outputs": [],
   "source": [
    "Post.objects.all()"
   ]
  },
  {
   "cell_type": "code",
   "execution_count": null,
   "metadata": {},
   "outputs": [],
   "source": [
    "p4=Post(content=\"to be deleted post\",posted_by=u3)\n",
    "p4.save()"
   ]
  },
  {
   "cell_type": "code",
   "execution_count": null,
   "metadata": {},
   "outputs": [],
   "source": []
  },
  {
   "cell_type": "code",
   "execution_count": null,
   "metadata": {},
   "outputs": [],
   "source": [
    "r3=Reaction(user=u3,reaction=\"HAHA\",post=p4)\n",
    "r3.save()"
   ]
  },
  {
   "cell_type": "code",
   "execution_count": null,
   "metadata": {},
   "outputs": [],
   "source": [
    "p4=Post(content=\"to be deleted post\",posted_by=u3)\n",
    "p4.save()"
   ]
  },
  {
   "cell_type": "code",
   "execution_count": null,
   "metadata": {},
   "outputs": [],
   "source": [
    "r3=Reaction(user=u3,reaction=\"HAHA\",post=p4)\n",
    "r3.save()"
   ]
  },
  {
   "cell_type": "code",
   "execution_count": null,
   "metadata": {},
   "outputs": [],
   "source": [
    "Reaction.objects.all()"
   ]
  },
  {
   "cell_type": "code",
   "execution_count": null,
   "metadata": {},
   "outputs": [],
   "source": [
    "Post.objects.all()[3].reactions.all()"
   ]
  },
  {
   "cell_type": "code",
   "execution_count": 44,
   "metadata": {},
   "outputs": [],
   "source": [
    "def delete_post(post_id):\n",
    "    Post.objects.filter(id=post_id).delete()\n",
    "    \n",
    "    \n",
    "delete_post(31)\n",
    "    "
   ]
  },
  {
   "cell_type": "code",
   "execution_count": 45,
   "metadata": {},
   "outputs": [
    {
     "data": {
      "text/plain": [
       "<QuerySet [<Post: Post object (19)>, <Post: Post object (20)>, <Post: Post object (21)>, <Post: Post object (22)>, <Post: Post object (23)>, <Post: Post object (24)>, <Post: Post object (25)>, <Post: Post object (26)>, <Post: Post object (27)>, <Post: Post object (28)>, <Post: Post object (29)>, <Post: Post object (30)>]>"
      ]
     },
     "execution_count": 45,
     "metadata": {},
     "output_type": "execute_result"
    }
   ],
   "source": [
    "Post.objects.all()"
   ]
  },
  {
   "cell_type": "code",
   "execution_count": null,
   "metadata": {},
   "outputs": [],
   "source": [
    "Reaction.objects.all()"
   ]
  },
  {
   "cell_type": "code",
   "execution_count": null,
   "metadata": {},
   "outputs": [],
   "source": [
    "u2.posts.all()[0].id"
   ]
  },
  {
   "cell_type": "code",
   "execution_count": null,
   "metadata": {},
   "outputs": [],
   "source": [
    "def react_to_post(user_id,post_id,reaction_type):\n",
    "    \n",
    "    try:\n",
    "        u=User.objects.get(id=user_id)\n",
    "    except User.DoesNotExist:\n",
    "        raise Exception(\"User does not exist\")\n",
    "        \n",
    "    try:    \n",
    "        p=Post.objects.get(id=post_id)\n",
    "    except Post.DoesNotExist:\n",
    "        raise Exception(\"Post does not exist\")\n",
    "     \n",
    "    if reaction_type not in [\"HAHA\",\"WOW\",\"LIKE\",\"LOVE\",\"SAD\"]:\n",
    "        raise Exception(\"Reaction does not exist\")\n",
    "        \n",
    "       \n",
    "    try :\n",
    "        react=Reaction.objects.get(user_id=u.id , post_id=p.id)\n",
    "        if react.reaction==reaction_type:\n",
    "            react.delete()\n",
    "        else:\n",
    "            react.reaction=reaction_type\n",
    "            react.save()  \n",
    "    \n",
    "    except:\n",
    "        \n",
    "               \n",
    "        Reaction.objects.create(user=u,reaction=reaction_type,post=p)\n",
    "        \n",
    "        \n",
    "        \n",
    "        \n",
    "    \n",
    "    \n",
    "    \n",
    "    \n",
    "    \n",
    "    \n",
    "    \n",
    "\n",
    "\n"
   ]
  },
  {
   "cell_type": "code",
   "execution_count": null,
   "metadata": {},
   "outputs": [],
   "source": [
    "User.objects.all()[0].posts.all()[0].reactions.all()[0].reaction\n",
    "Reaction.objects.all()[0].post.reactions.all()[0].reaction"
   ]
  },
  {
   "cell_type": "code",
   "execution_count": null,
   "metadata": {},
   "outputs": [],
   "source": [
    "react_to_post(1,11,\"WOW\")"
   ]
  },
  {
   "cell_type": "code",
   "execution_count": null,
   "metadata": {},
   "outputs": [],
   "source": [
    "Reaction.objects.all()[0].post.reactions.all()[0].reaction"
   ]
  },
  {
   "cell_type": "code",
   "execution_count": null,
   "metadata": {},
   "outputs": [],
   "source": [
    "Reaction.objects.all()"
   ]
  },
  {
   "cell_type": "code",
   "execution_count": null,
   "metadata": {},
   "outputs": [],
   "source": [
    "u1"
   ]
  },
  {
   "cell_type": "code",
   "execution_count": null,
   "metadata": {},
   "outputs": [],
   "source": [
    "p1\n"
   ]
  },
  {
   "cell_type": "code",
   "execution_count": null,
   "metadata": {},
   "outputs": [],
   "source": [
    "p1.save()"
   ]
  },
  {
   "cell_type": "code",
   "execution_count": null,
   "metadata": {},
   "outputs": [],
   "source": [
    "p2.save()"
   ]
  },
  {
   "cell_type": "code",
   "execution_count": null,
   "metadata": {},
   "outputs": [],
   "source": [
    "Post.objects.all()"
   ]
  },
  {
   "cell_type": "code",
   "execution_count": null,
   "metadata": {},
   "outputs": [],
   "source": [
    "r1"
   ]
  },
  {
   "cell_type": "code",
   "execution_count": null,
   "metadata": {},
   "outputs": [],
   "source": [
    "r1.save()"
   ]
  },
  {
   "cell_type": "code",
   "execution_count": null,
   "metadata": {},
   "outputs": [],
   "source": [
    "r2.save()"
   ]
  },
  {
   "cell_type": "code",
   "execution_count": null,
   "metadata": {},
   "outputs": [],
   "source": [
    "Reaction.objects.all()"
   ]
  },
  {
   "cell_type": "code",
   "execution_count": null,
   "metadata": {},
   "outputs": [],
   "source": [
    "r4=Reaction(user=u1,reaction=\"LIKE\",post=p2)\n",
    "r4.save()"
   ]
  },
  {
   "cell_type": "code",
   "execution_count": null,
   "metadata": {},
   "outputs": [],
   "source": [
    "def "
   ]
  },
  {
   "cell_type": "code",
   "execution_count": null,
   "metadata": {},
   "outputs": [],
   "source": [
    "def get_posts_reacted_by_user(user_id):\n",
    "    \n",
    "    try:\n",
    "        u=User.objects.get(id=user_id)\n",
    "    except User.DoesNotExist:\n",
    "        raise Exception(\"User does not exist\")\n",
    "        \n",
    "        \n",
    "    reactions=u.reactions.all()\n",
    "        \n",
    "        \n",
    "    postsdata=list()\n",
    "        \n",
    "    for x in reactions:\n",
    "        postsdata.append(get_post(x.post.id))\n",
    "        \n",
    "        \n",
    "    return postsdata\n",
    "\n",
    "\n",
    "\n",
    "\n",
    "get_posts_reacted_by_user(2)\n",
    "        \n",
    "    \n",
    "              \n",
    "\n",
    "        "
   ]
  },
  {
   "cell_type": "code",
   "execution_count": 65,
   "metadata": {},
   "outputs": [
    {
     "data": {
      "text/plain": [
       "[{'user_id': 10,\n",
       "  'name': 'kmk',\n",
       "  'profile_pic': 'kmk@xyz.com',\n",
       "  'reaction': 'HAHA'},\n",
       " {'user_id': 10,\n",
       "  'name': 'kmk',\n",
       "  'profile_pic': 'kmk@xyz.com',\n",
       "  'reaction': 'SAD'},\n",
       " {'user_id': 10,\n",
       "  'name': 'kmk',\n",
       "  'profile_pic': 'kmk@xyz.com',\n",
       "  'reaction': 'ANGRY'},\n",
       " {'user_id': 10,\n",
       "  'name': 'kmk',\n",
       "  'profile_pic': 'kmk@xyz.com',\n",
       "  'reaction': 'SAD'},\n",
       " {'user_id': 10,\n",
       "  'name': 'kmk',\n",
       "  'profile_pic': 'kmk@xyz.com',\n",
       "  'reaction': 'ANGRY'},\n",
       " {'user_id': 10,\n",
       "  'name': 'kmk',\n",
       "  'profile_pic': 'kmk@xyz.com',\n",
       "  'reaction': 'SAD'},\n",
       " {'user_id': 10,\n",
       "  'name': 'kmk',\n",
       "  'profile_pic': 'kmk@xyz.com',\n",
       "  'reaction': 'ANGRY'},\n",
       " {'user_id': 10,\n",
       "  'name': 'kmk',\n",
       "  'profile_pic': 'kmk@xyz.com',\n",
       "  'reaction': 'SAD'},\n",
       " {'user_id': 10,\n",
       "  'name': 'kmk',\n",
       "  'profile_pic': 'kmk@xyz.com',\n",
       "  'reaction': 'ANGRY'},\n",
       " {'user_id': 10,\n",
       "  'name': 'kmk',\n",
       "  'profile_pic': 'kmk@xyz.com',\n",
       "  'reaction': 'SAD'},\n",
       " {'user_id': 10,\n",
       "  'name': 'kmk',\n",
       "  'profile_pic': 'kmk@xyz.com',\n",
       "  'reaction': 'ANGRY'}]"
      ]
     },
     "execution_count": 65,
     "metadata": {},
     "output_type": "execute_result"
    }
   ],
   "source": [
    "def get_reactions_to_post(post_id):\n",
    "    \n",
    "    try:    \n",
    "        p=Post.objects.get(id=post_id)\n",
    "    except Post.DoesNotExist:\n",
    "        raise Exception(\"Post does not exist\")\n",
    "        \n",
    "    \n",
    "    reactions=p.reactions.all()\n",
    "    \n",
    "    result=[]\n",
    "    \n",
    "    \n",
    "    for x in reactions:\n",
    "        \n",
    "        temp={}\n",
    "        \n",
    "        temp.update({\"user_id\":x.user.id})\n",
    "        temp.update({\"name\":x.user.name})\n",
    "        temp.update({\"profile_pic\":x.user.profile_pic_url})\n",
    "        \n",
    "        temp.update({\"reaction\":x.reaction})\n",
    "        \n",
    "        result.append(temp)\n",
    "    \n",
    "    return result\n",
    "    \n",
    "get_reactions_to_post(19)\n",
    "        \n",
    "        \n",
    "        "
   ]
  },
  {
   "cell_type": "code",
   "execution_count": null,
   "metadata": {},
   "outputs": [],
   "source": [
    "for x in p1.reactions.all():\n",
    "    \n",
    "    print (x.reaction)"
   ]
  },
  {
   "cell_type": "code",
   "execution_count": null,
   "metadata": {},
   "outputs": [],
   "source": [
    "def get_reaction_metrics(post_id):\n",
    "    \n",
    "    try:    \n",
    "        p=Post.objects.get(id=post_id)\n",
    "    except Post.DoesNotExist:\n",
    "        raise Exception(\"Post does not exist\")\n",
    "    \n",
    "\n",
    "    \n",
    "    c=Count('reaction')\n",
    "\n",
    "    temp=Reaction.objects.filter(post_id=19).values('reaction').annotate(count=c)\n",
    "    \n",
    "    \n",
    "    return list(temp)\n",
    "    \n",
    "    \n",
    "    \n",
    "get_reaction_metrics(19)\n",
    "        \n",
    "        \n",
    "        "
   ]
  },
  {
   "cell_type": "code",
   "execution_count": null,
   "metadata": {},
   "outputs": [],
   "source": [
    "\n",
    "c=Count('reaction')\n",
    "#print(c)\n",
    "temp=Reaction.objects.filter(post_id=19).values('reaction').annotate(count=c)\n",
    "temp=list(temp)\n",
    "temp\n",
    "\n",
    "\n",
    "\n"
   ]
  },
  {
   "cell_type": "code",
   "execution_count": 49,
   "metadata": {},
   "outputs": [
    {
     "data": {
      "text/plain": [
       "[20, 21, 22, 23, 26, 27, 28, 29, 30]"
      ]
     },
     "execution_count": 49,
     "metadata": {},
     "output_type": "execute_result"
    }
   ],
   "source": [
    "from django.db.models import Count ,Q ,F\n",
    "\n",
    "\n",
    "\n",
    "\n",
    "class ReactionType(Enum):\n",
    "    LOL = \"LOL\"\n",
    "    HAHA =\"HAHA\"\n",
    "    WOW = \"WOW\"\n",
    "    LIKE = \"LIKE\"\n",
    "    SAD = \"SAD\"\n",
    "    ANGRY =\" ANGRY\"\n",
    "    LOVE = \"LOVE\"\n",
    "def get_posts_with_more_positive_reactions():\n",
    "    \n",
    "    pos=[ReactionType.LOL.value,ReactionType.HAHA.value\n",
    "         ,ReactionType.WOW.value,ReactionType.LIKE.value\n",
    "        ,ReactionType.LOVE.value]\n",
    "    \n",
    "    negs=[ReactionType.SAD.value,ReactionType.ANGRY.value]       \n",
    "    \n",
    "    res_post_ids=list()    \n",
    "    pos_r = Count('reaction',filter=Q(reaction__in=pos))\n",
    "    neg_r = Count('reaction',filter=Q(reaction__in=negs))\n",
    "                \n",
    "    check_count = Reaction.objects.exclude(post = None).values('post_id').annotate(pos_reac=pos_r).annotate(neg_reac=neg_r)\n",
    "    \n",
    "    for x in check_count:\n",
    "        \n",
    "        if x['pos_reac'] > x['neg_reac']:\n",
    "            res_post_ids.append(x['post_id'])\n",
    "      \n",
    "    \n",
    "    return res_post_ids\n",
    "            \n",
    "            \n",
    "            \n",
    "            \n",
    "            \n",
    "        \n",
    "        \n",
    "get_posts_with_more_positive_reactions()"
   ]
  },
  {
   "cell_type": "code",
   "execution_count": null,
   "metadata": {},
   "outputs": [],
   "source": [
    "r=Reaction.objects.value__set('reaction').distinct()\n",
    "r"
   ]
  },
  {
   "cell_type": "code",
   "execution_count": null,
   "metadata": {},
   "outputs": [],
   "source": [
    "\n",
    "temp=Post.objects.get(id=19)\n",
    "\n",
    "temp.reactions.all()"
   ]
  },
  {
   "cell_type": "code",
   "execution_count": null,
   "metadata": {},
   "outputs": [],
   "source": [
    "for x in Post.objects.all():\n",
    "    print(x)"
   ]
  },
  {
   "cell_type": "code",
   "execution_count": null,
   "metadata": {},
   "outputs": [],
   "source": [
    "negr1=Reaction(user=u1,reaction=\"SAD\",post=temp)\n",
    "negr1.save()\n",
    "negr2=Reaction(user=u2,reaction=\"ANGRY\",post=temp)\n",
    "negr2.save()"
   ]
  },
  {
   "cell_type": "code",
   "execution_count": null,
   "metadata": {},
   "outputs": [],
   "source": []
  },
  {
   "cell_type": "code",
   "execution_count": null,
   "metadata": {},
   "outputs": [],
   "source": [
    "temp=User.objects.all()[0]"
   ]
  },
  {
   "cell_type": "code",
   "execution_count": null,
   "metadata": {},
   "outputs": [],
   "source": [
    "temp.posts.all()[2].content"
   ]
  },
  {
   "cell_type": "code",
   "execution_count": null,
   "metadata": {},
   "outputs": [],
   "source": [
    "from postv1.models import User ,Post ,Comment ,Reaction\n"
   ]
  },
  {
   "cell_type": "code",
   "execution_count": null,
   "metadata": {},
   "outputs": [],
   "source": [
    "Post.objects.all()"
   ]
  },
  {
   "cell_type": "code",
   "execution_count": null,
   "metadata": {},
   "outputs": [],
   "source": [
    "Reaction.objects.all()"
   ]
  },
  {
   "cell_type": "code",
   "execution_count": null,
   "metadata": {},
   "outputs": [],
   "source": [
    "Comment.objects.all()"
   ]
  },
  {
   "cell_type": "code",
   "execution_count": null,
   "metadata": {},
   "outputs": [],
   "source": [
    "User.objects.all()"
   ]
  },
  {
   "cell_type": "code",
   "execution_count": null,
   "metadata": {},
   "outputs": [],
   "source": [
    "User.objects.all()\n"
   ]
  },
  {
   "cell_type": "code",
   "execution_count": null,
   "metadata": {},
   "outputs": [],
   "source": [
    "u1=User(name=\"kmk\",profile_pic_url=\"kmk@xyz.com\")\n",
    "u1.save()"
   ]
  },
  {
   "cell_type": "code",
   "execution_count": null,
   "metadata": {},
   "outputs": [],
   "source": [
    "p1=Post(content=\"kmk first post\",posted_by=u1)\n",
    "p1.save()"
   ]
  },
  {
   "cell_type": "code",
   "execution_count": null,
   "metadata": {},
   "outputs": [],
   "source": [
    "def add_comment(post_id,comment_user_id,comment_text):\n",
    "    \n",
    "    try:\n",
    "        p=Post.objects.get(id=post_id)\n",
    "    except Post.DoesNotExist:\n",
    "        raise Exception(\"Post doesnot Exists\")\n",
    "    \n",
    "    try:\n",
    "        u=User.objects.get(id=comment_user_id)\n",
    "    except User.DoesNotExist:\n",
    "        raise Exception(\"User doesnot Exists\")\n",
    "\n",
    "    c=Comment.objects.create(content=comment_text,commented_by=u,post=p)\n",
    "    \n",
    "    \n",
    "    return c.id\n",
    "\n",
    "add_comment(19,10,\"first comment\")"
   ]
  },
  {
   "cell_type": "code",
   "execution_count": null,
   "metadata": {},
   "outputs": [],
   "source": [
    "Post.objects.all()[0].comments.all()[0].content"
   ]
  },
  {
   "cell_type": "code",
   "execution_count": null,
   "metadata": {},
   "outputs": [],
   "source": [
    "Post.objects.all()[0].reactions.all()"
   ]
  },
  {
   "cell_type": "code",
   "execution_count": null,
   "metadata": {},
   "outputs": [],
   "source": [
    "Comment.objects.all()[0].reactions.all()"
   ]
  },
  {
   "cell_type": "code",
   "execution_count": null,
   "metadata": {},
   "outputs": [],
   "source": [
    "r1=Reaction(user=u1,reaction=\"HAHA\",post=p1)\n",
    "r1.save()"
   ]
  },
  {
   "cell_type": "code",
   "execution_count": null,
   "metadata": {},
   "outputs": [],
   "source": [
    "Post.objects.all()[0].reactions.all()[0].reaction"
   ]
  },
  {
   "cell_type": "code",
   "execution_count": null,
   "metadata": {},
   "outputs": [],
   "source": [
    "r2=Reaction(user=u1,reaction=\"LIKE\",comment=Comment.objects.get(id=2))\n",
    "r2.save()"
   ]
  },
  {
   "cell_type": "code",
   "execution_count": null,
   "metadata": {},
   "outputs": [],
   "source": []
  },
  {
   "cell_type": "code",
   "execution_count": null,
   "metadata": {},
   "outputs": [],
   "source": [
    "r2=Reaction(user=u1,reaction=\"Like\",comment=c)\n",
    "r2.save()"
   ]
  },
  {
   "cell_type": "code",
   "execution_count": null,
   "metadata": {},
   "outputs": [],
   "source": []
  },
  {
   "cell_type": "code",
   "execution_count": 64,
   "metadata": {},
   "outputs": [
    {
     "data": {
      "text/plain": [
       "{'posted_id': 19,\n",
       " 'posted_at': '2019-07-04 07:31:56.343523',\n",
       " 'post_content': 'kmk first post',\n",
       " 'posted_by': {'name': 'kmk', 'user_id': 10, 'profile_pic_url': 'kmk@xyz.com'},\n",
       " 'reactions': {'count': 11, 'type': ['HAHA', 'SAD', 'ANGRY']},\n",
       " 'comments': [{'comment_id': 1,\n",
       "   'commenter': {'name': 'kmk',\n",
       "    'user_id': 10,\n",
       "    'profile_pic_url': 'kmk@xyz.com'},\n",
       "   'commented_at': '2019-07-04 07:44:14.347524',\n",
       "   'comment_content:': 'first comment',\n",
       "   'reactions': {'count': 1, 'type': ['WOW']},\n",
       "   'replies count': 5,\n",
       "   'replies': [{'comment_id': 2,\n",
       "     'commenter': {'name': 'kmk',\n",
       "      'user_id': 10,\n",
       "      'profile_pic_url': 'kmk@xyz.com'},\n",
       "     'commented_at': '2019-07-04 11:14:28.938529',\n",
       "     'comment_content:': 'reply to a comment',\n",
       "     'reactions': {'count': 0, 'type': []}}]}],\n",
       " 'comments_count': 1}"
      ]
     },
     "execution_count": 64,
     "metadata": {},
     "output_type": "execute_result"
    }
   ],
   "source": [
    "from enum import Enum\n",
    "\n",
    "\n",
    "class ReactionType(Enum):\n",
    "    LOL = \"LOL\"\n",
    "    HAHA =\"HAHA\"\n",
    "    WOW = \"WOW\"\n",
    "    LIKE = \"LIKE\"\n",
    "    SAD = \"SAD\"\n",
    "    ANGRY =\" ANGRY\"\n",
    "    \n",
    "\n",
    "    \n",
    "#ReactionType.LOL.value\n",
    "#\"LOL\"\n",
    "\n",
    "def get_user_data(user):\n",
    "    user_data={}\n",
    "    user_data.update({\"name\":user.name})\n",
    "    user_data.update({\"user_id\":user.id})\n",
    "    user_data.update({\"profile_pic_url\":user.profile_pic_url})\n",
    "    \n",
    "    return user_data\n",
    "    \n",
    "def get_reactions_data(obj):\n",
    "    reaction_data = {}\n",
    "    reaction_data.update({\"count\": obj.reactions.count()})\n",
    "    types = obj.reactions.values_list('reaction', flat=True).distinct()\n",
    "    reaction_data.update({\"type\": list(types)})\n",
    "\n",
    "    return reaction_data\n",
    "    \n",
    "    \n",
    "\n",
    "def get_post(post_id):\n",
    "    result=dict()\n",
    "    \n",
    "    try:\n",
    "        post=Post.objects.select_related('posted_by').prefetch_related('comments').get(id=post_id)\n",
    "    except Post.DoesNotExist:\n",
    "        raise Exception(\"User not found\")\n",
    "        \n",
    "    result.update({\"posted_id\":post_id})\n",
    "    result.update({\"posted_at\":post.posted_at.strftime(\"%Y-%m-%d %H:%M:%S.%f\")})\n",
    "    result.update({\"post_content\":post.content})\n",
    "    \n",
    "    \n",
    "    #fetching user data\n",
    "    user_data=get_user_data(post.posted_by)\n",
    "    result.update({\"posted_by\":user_data})\n",
    "    \n",
    "    #fetching reactions data\n",
    "    reaction_data=get_reactions_data(post)\n",
    "    result.update({\"reactions\":reaction_data})\n",
    "    \n",
    "    \n",
    "    #getting comments\n",
    "    comments_result=get_comments(post.comments.all())\n",
    "    \n",
    "    result.update({\"comments\":comments_result})\n",
    "    #result.update({\"comments_count\":post.comments.count()})\n",
    "    result.update({\"comments_count\":len(post.comments.all())})\n",
    "    \n",
    "    return result\n",
    "\n",
    "\n",
    "def get_comments(comments):\n",
    "    \n",
    "    res_list = list()\n",
    "    \n",
    "    for x in comments:\n",
    "        res_dict = dict()\n",
    "        res_dict.update({\"comment_id\":x.id})\n",
    "        \n",
    "        #user data\n",
    "        user=User.objects.get(id=x.commented_by.id)\n",
    "        user_data = get_user_data(user)\n",
    "        \n",
    "        res_dict.update({\"commenter\":user_data})\n",
    "        res_dict.update({\"commented_at\":x.commented_at.strftime(\"%Y-%m-%d %H:%M:%S.%f\")})\n",
    "        res_dict.update({\"comment_content:\":x.content})\n",
    "        \n",
    "        #fetching reactions data\n",
    "        reaction_data = get_reactions_data(x)\n",
    "        res_dict.update({\"reactions\":reaction_data})\n",
    "        \n",
    "        #handling comments and replies for same function\n",
    "        temp=get_comments(x.replies.all()) \n",
    "    \n",
    "        if  temp != None:\n",
    "            \n",
    "            res_dict.update({\"replies count\":x.replies.count()})\n",
    "            res_dict.update({\"replies\":temp})\n",
    "        \n",
    "        res_list.append(res_dict)\n",
    "        \n",
    "        return res_list\n",
    "\n",
    "get_post(19)\n",
    "\n",
    "\n",
    "\n",
    "\n",
    "\n",
    "\n",
    "\n",
    "    "
   ]
  },
  {
   "cell_type": "code",
   "execution_count": null,
   "metadata": {},
   "outputs": [],
   "source": [
    "class ReactionType(Enum):\n",
    "    LOL = \"LOL\"\n",
    "    HAHA =\"HAHA\"\n",
    "    WOW = \"WOW\"\n",
    "    LIKE = \"LIKE\"\n",
    "    SAD = \"SAD\"\n",
    "    ANGRY =\" ANGRY\"\n",
    "    LOVE=\"LOVE\"\n",
    "    \n",
    "\n",
    "\n",
    "def react_to_comment(user_id, comment_id, reaction_type):\n",
    "    \n",
    "    try:\n",
    "        u = User.objects.get(id=user_id)\n",
    "    except User.DoesNotExist:\n",
    "        raise Exception(\"User does not exist\")\n",
    "\n",
    "    try:\n",
    "        c = Comment.objects.get(id=comment_id)\n",
    "    except Comment.DoesNotExist:\n",
    "        raise Exception(\"Comment does not exist\")\n",
    "    \n",
    "    reactions_list=[ReactionType.LOL.value,ReactionType.HAHA.value\n",
    "         ,ReactionType.WOW.value,ReactionType.LIKE.value\n",
    "        ,ReactionType.LOVE.value,\n",
    "        ReactionType.SAD.value,ReactionType.ANGRY.value]\n",
    "    \n",
    "    if reaction_type not in reactions_list:\n",
    "        raise Exception(\"Reaction does not exist\")\n",
    "\n",
    "    try:\n",
    "        react = Reaction.objects.get(user_id=u.id, comment_id=c.id)\n",
    "        if react.reaction == reaction_type:\n",
    "            react.delete()\n",
    "        else:\n",
    "            react.reaction = reaction_type\n",
    "            react.save()\n",
    "\n",
    "    except:\n",
    "\n",
    "        Reaction.objects.create(user=u, reaction=reaction_type, comment=c)\n",
    "\n",
    "    \n",
    "    "
   ]
  },
  {
   "cell_type": "code",
   "execution_count": null,
   "metadata": {},
   "outputs": [],
   "source": [
    "react_to_comment(10,1,\"WOW\")"
   ]
  },
  {
   "cell_type": "code",
   "execution_count": null,
   "metadata": {},
   "outputs": [],
   "source": [
    "Reaction.objects.all()[1].reaction"
   ]
  },
  {
   "cell_type": "code",
   "execution_count": 32,
   "metadata": {},
   "outputs": [
    {
     "data": {
      "text/plain": [
       "<Comment: Comment object (6)>"
      ]
     },
     "execution_count": 32,
     "metadata": {},
     "output_type": "execute_result"
    }
   ],
   "source": [
    "from postv1.models import Comment\n",
    "\n",
    "def reply_to_comment(comment_id, reply_user_id, reply_text):\n",
    "    \n",
    "    try:\n",
    "        comment=Comment.objects.get(id=comment_id)\n",
    "    except Comment.DoesNotExist:\n",
    "        raise Exception(\"Comment doesnot Exists\")\n",
    "    \n",
    "    try:\n",
    "        u=User.objects.get(id=reply_user_id)\n",
    "    except User.DoesNotExist:\n",
    "        raise Exception(\"User doesnot Exists\")\n",
    "    \n",
    "    #handling if given reply_id case\n",
    "    if comment.parent_comment is not None:\n",
    "        \n",
    "        reply_comment=Comment.objects.create(content=reply_text,commented_by=u,parent_comment=comment.parent_comment)\n",
    "        return reply_comment\n",
    "\n",
    "        \n",
    "\n",
    "    reply_comment=Comment.objects.create(content=reply_text,commented_by=u,parent_comment=comment)\n",
    "    \n",
    "    \n",
    "    return reply_comment.id\n",
    "\n",
    "    \n",
    "reply_to_comment(2,10,\"reply to reply test\")\n",
    "    \n",
    "    "
   ]
  },
  {
   "cell_type": "code",
   "execution_count": 33,
   "metadata": {},
   "outputs": [
    {
     "data": {
      "text/plain": [
       "<QuerySet [<Comment: Comment object (1)>, <Comment: Comment object (2)>, <Comment: Comment object (3)>, <Comment: Comment object (4)>, <Comment: Comment object (5)>, <Comment: Comment object (6)>]>"
      ]
     },
     "execution_count": 33,
     "metadata": {},
     "output_type": "execute_result"
    }
   ],
   "source": [
    "Comment.objects.all()"
   ]
  },
  {
   "cell_type": "code",
   "execution_count": 34,
   "metadata": {},
   "outputs": [
    {
     "name": "stdout",
     "output_type": "stream",
     "text": [
      "None first comment\n",
      "Comment object (1) reply to a comment\n",
      "Comment object (1) reply to a comment\n",
      "Comment object (1) reply to a comment\n",
      "Comment object (1) reply to a comment\n",
      "Comment object (1) reply to reply test\n"
     ]
    }
   ],
   "source": [
    "for x in Comment.objects.all():\n",
    "    print(x.parent_comment , x.content)"
   ]
  },
  {
   "cell_type": "code",
   "execution_count": null,
   "metadata": {},
   "outputs": [],
   "source": [
    "\n",
    "\n",
    "\n",
    "\n",
    "def get_replies_for_comment(comment_id):\n",
    "    \n",
    "    try:\n",
    "        comment = Comment.objects.get(id=comment_id)\n",
    "    except Comment.DoesNotExist:\n",
    "        raise Exception(\"Comment doesnot Exists\")\n",
    "        \n",
    "    replies = comment.replies.all()\n",
    "    \n",
    "    \n",
    "    result = get_comments(replies)\n",
    "    #print(result)\n",
    "    \n",
    "    return result\n",
    "\n",
    "    \n",
    "get_replies_for_comment(1)\n",
    "    \n"
   ]
  },
  {
   "cell_type": "code",
   "execution_count": null,
   "metadata": {},
   "outputs": [],
   "source": []
  },
  {
   "cell_type": "code",
   "execution_count": null,
   "metadata": {},
   "outputs": [],
   "source": [
    "Comment.objects.all()"
   ]
  },
  {
   "cell_type": "code",
   "execution_count": null,
   "metadata": {},
   "outputs": [],
   "source": [
    "print(Comment.objects.all()[0].content)\n",
    "print(Comment.objects.all()[1].content)"
   ]
  },
  {
   "cell_type": "code",
   "execution_count": null,
   "metadata": {},
   "outputs": [],
   "source": [
    "from postv1.models import Comment\n",
    "Comment.objects.all()"
   ]
  },
  {
   "cell_type": "code",
   "execution_count": null,
   "metadata": {},
   "outputs": [],
   "source": [
    "Reaction.objects.all()"
   ]
  },
  {
   "cell_type": "code",
   "execution_count": null,
   "metadata": {},
   "outputs": [],
   "source": [
    "Comment.objects.all()"
   ]
  },
  {
   "cell_type": "code",
   "execution_count": null,
   "metadata": {},
   "outputs": [],
   "source": [
    "Comment.objects.all()[1].content"
   ]
  },
  {
   "cell_type": "code",
   "execution_count": null,
   "metadata": {},
   "outputs": [],
   "source": [
    "x=Post.objects.all()[0].posted_at\n",
    "\n",
    "x.strftime(\"%Y-%m-%d %H:%M:%S.%f\")"
   ]
  },
  {
   "cell_type": "code",
   "execution_count": null,
   "metadata": {},
   "outputs": [],
   "source": []
  },
  {
   "cell_type": "code",
   "execution_count": null,
   "metadata": {},
   "outputs": [],
   "source": [
    "Post.objects.all()[0].id"
   ]
  },
  {
   "cell_type": "code",
   "execution_count": null,
   "metadata": {},
   "outputs": [],
   "source": [
    "\n",
    "x=Post.objects.defer(\"posted_at\").get(id=19)"
   ]
  },
  {
   "cell_type": "code",
   "execution_count": null,
   "metadata": {},
   "outputs": [],
   "source": [
    "x.posted_at"
   ]
  },
  {
   "cell_type": "code",
   "execution_count": null,
   "metadata": {},
   "outputs": [],
   "source": [
    "from django.db import connection\n",
    "\n",
    "start=len(connection.queries)\n",
    "\n",
    "\n",
    "end=len(connection.queries)\n",
    "print(end-start)"
   ]
  },
  {
   "cell_type": "raw",
   "metadata": {},
   "source": [
    "from aggegation.models import Pizza ,Topping"
   ]
  },
  {
   "cell_type": "code",
   "execution_count": null,
   "metadata": {},
   "outputs": [],
   "source": [
    "from aggregation.models import Pizza ,Topping\n",
    "\n",
    "t1=Topping(name='Topping1')\n",
    "t1.save()"
   ]
  },
  {
   "cell_type": "code",
   "execution_count": null,
   "metadata": {},
   "outputs": [],
   "source": [
    "t2=Topping(name='Topping2')\n",
    "t2.save()\n",
    "t3=Topping(name='Topping2')\n",
    "t3.save()"
   ]
  },
  {
   "cell_type": "code",
   "execution_count": null,
   "metadata": {},
   "outputs": [],
   "source": [
    "Topping.objects.all()"
   ]
  },
  {
   "cell_type": "code",
   "execution_count": null,
   "metadata": {},
   "outputs": [],
   "source": [
    "p1=Pizza(name='pizza1')\n",
    "p1.save()\n",
    "P2=Pizza(name='pizza2')\n",
    "p2.save()"
   ]
  },
  {
   "cell_type": "code",
   "execution_count": null,
   "metadata": {},
   "outputs": [],
   "source": [
    "p1=Pizza(name='pizza1')\n",
    "p1.save()\n",
    "p2=Pizza(name='pizza2')\n",
    "p2.save()"
   ]
  },
  {
   "cell_type": "code",
   "execution_count": null,
   "metadata": {},
   "outputs": [],
   "source": [
    "p1.toppings.add(t1)"
   ]
  },
  {
   "cell_type": "code",
   "execution_count": null,
   "metadata": {},
   "outputs": [],
   "source": [
    "p1.toppings.add(t2)"
   ]
  },
  {
   "cell_type": "code",
   "execution_count": null,
   "metadata": {},
   "outputs": [],
   "source": [
    "p2.toppings.add(t3)"
   ]
  },
  {
   "cell_type": "code",
   "execution_count": null,
   "metadata": {},
   "outputs": [],
   "source": [
    "\n",
    "start=len(connection.queries)\n",
    "\n",
    "\n",
    "end=len(connection.queries)\n",
    "\n",
    "print(end-start)\n"
   ]
  },
  {
   "cell_type": "code",
   "execution_count": null,
   "metadata": {},
   "outputs": [],
   "source": [
    "from django.db import connection\n",
    "\n",
    "start=len(connection.queries)\n",
    "\n",
    "q=Pizza.objects.get(id=3)\n",
    "end=len(connection.queries)\n",
    "\n",
    "print(end-start)\n",
    "\n",
    "start=len(connection.queries)\n",
    "q.__str__()\n",
    "end=len(connection.queries)\n",
    "print(end-start)"
   ]
  },
  {
   "cell_type": "code",
   "execution_count": null,
   "metadata": {},
   "outputs": [],
   "source": [
    "from django.db import connection\n",
    "\n",
    "start=len(connection.queries)\n",
    "\n",
    "q=Pizza.objects.prefetch_related('toppings').get(id=3)\n",
    "end=len(connection.queries)\n",
    "\n",
    "print(end-start)\n",
    "\n",
    "start=len(connection.queries)\n",
    "q.__str__()\n",
    "end=len(connection.queries)\n",
    "print(end-start)"
   ]
  },
  {
   "cell_type": "code",
   "execution_count": null,
   "metadata": {},
   "outputs": [],
   "source": [
    "start=len(connection.queries)\n",
    "\n",
    "end=len(connection.queries)\n",
    "\n",
    "print(end-start)\n",
    "\n",
    "\n"
   ]
  },
  {
   "cell_type": "code",
   "execution_count": null,
   "metadata": {},
   "outputs": [],
   "source": [
    "from aggregation.models import Restaurant,Pizza,Topping"
   ]
  },
  {
   "cell_type": "code",
   "execution_count": null,
   "metadata": {},
   "outputs": [],
   "source": [
    "p1=Pizza.objects.get(id=3)\n",
    "r1=Restaurant(best_pizza=p1)\n",
    "r1.save()"
   ]
  },
  {
   "cell_type": "code",
   "execution_count": null,
   "metadata": {},
   "outputs": [],
   "source": [
    "p2=Pizza.objects.get(id=4)\n",
    "r1.pizzas.add(p1,p2)"
   ]
  },
  {
   "cell_type": "code",
   "execution_count": null,
   "metadata": {},
   "outputs": [],
   "source": [
    "\n",
    "start=len(connection.queries)\n",
    "Restaurant.objects.prefetch_related('pizzas__toppings').get(id=1)\n",
    "\n",
    "end=len(connection.queries)\n",
    "\n",
    "print(end-start)"
   ]
  },
  {
   "cell_type": "code",
   "execution_count": null,
   "metadata": {},
   "outputs": [],
   "source": [
    "\n",
    "start=len(connection.queries)\n",
    "Restaurant.objects.prefetch_related('best_pizza__toppings').get(id=1)\n",
    "\n",
    "end=len(connection.queries)\n",
    "\n",
    "print(end-start)"
   ]
  },
  {
   "cell_type": "code",
   "execution_count": null,
   "metadata": {},
   "outputs": [],
   "source": [
    "\n",
    "start=len(connection.queries)\n",
    "Restaurant.objects.select_related('best_pizza').prefetch_related('best_pizza__toppings').get(id=1)\n",
    "\n",
    "end=len(connection.queries)\n",
    "\n",
    "print(end-start)"
   ]
  },
  {
   "cell_type": "code",
   "execution_count": null,
   "metadata": {},
   "outputs": [],
   "source": [
    "from django.db.models import Prefetch\n",
    "start=len(connection.queries)\n",
    "Restaurant.objects.prefetch_related(Prefetch('pizzas__toppings')).get(id=1)\n",
    "\n",
    "end=len(connection.queries)\n",
    "\n",
    "print(end-start)"
   ]
  },
  {
   "cell_type": "code",
   "execution_count": null,
   "metadata": {},
   "outputs": [],
   "source": [
    "from django.db.models import Prefetch\n",
    "start=len(connection.queries)\n",
    "Restaurant.objects.prefetch_related(Prefetch('pizzas__toppings', queryset=Topping.objects.order_by('name'))).get(id=1)\n",
    "\n",
    "end=len(connection.queries)\n",
    "\n",
    "print(end-start)"
   ]
  },
  {
   "cell_type": "code",
   "execution_count": null,
   "metadata": {},
   "outputs": [],
   "source": [
    "from django.db.models import Prefetch\n",
    "start=len(connection.queries)\n",
    "Restaurant.objects.prefetch_related('pizzas__toppings', 'pizzas').get(id=1)\n",
    "end=len(connection.queries)\n",
    "\n",
    "print(end-start)\n",
    "\n",
    "#redaundant"
   ]
  },
  {
   "cell_type": "code",
   "execution_count": null,
   "metadata": {},
   "outputs": [],
   "source": [
    "from django.db.models import Prefetch\n",
    "start=len(connection.queries)\n",
    "Restaurant.objects.prefetch_related('pizzas__toppings', Prefetch('pizzas', queryset=Pizza.objects.all())).get(id=1)\n",
    "end=len(connection.queries)\n",
    "\n",
    "print(end-start)\n",
    "\n"
   ]
  },
  {
   "cell_type": "code",
   "execution_count": null,
   "metadata": {},
   "outputs": [],
   "source": [
    "from django.db.models import Prefetch\n",
    "start=len(connection.queries)\n",
    "Restaurant.objects.prefetch_related('pizza_list__toppings', Prefetch('pizzas', to_attr='pizza_list')).get(id=1)\n",
    "end=len(connection.queries)\n",
    "\n",
    "print(end-start)"
   ]
  },
  {
   "cell_type": "code",
   "execution_count": null,
   "metadata": {},
   "outputs": [],
   "source": [
    "from django.db.models import Prefetch\n",
    "start=len(connection.queries)\n",
    "Restaurant.objects.prefetch_related( Prefetch('pizzas', to_attr='pizza_list'),'pizza_list__toppings').get(id=1)\n",
    "end=len(connection.queries)\n",
    "\n",
    "print(end-start)\n",
    "\n",
    "\n"
   ]
  },
  {
   "cell_type": "code",
   "execution_count": null,
   "metadata": {},
   "outputs": [],
   "source": [
    "from django.db.models import Prefetch\n",
    "start=len(connection.queries)\n",
    "x=Post.objects.defer(\"posted_at\").get(id=19)\n",
    "end=len(connection.queries)\n",
    "\n",
    "\n",
    "print(end-start)\n",
    "\n",
    "start=len(connection.queries)\n",
    "print(x.posted_at)\n",
    "end=len(connection.queries)\n",
    "\n",
    "\n",
    "print(end-start)"
   ]
  },
  {
   "cell_type": "code",
   "execution_count": null,
   "metadata": {},
   "outputs": [],
   "source": [
    "\n",
    "from django.db.models import Prefetch\n",
    "start=len(connection.queries)\n",
    "print(x.posted_at)\n",
    "end=len(connection.queries)\n",
    "\n",
    "\n",
    "print(end-start)\n"
   ]
  },
  {
   "cell_type": "code",
   "execution_count": null,
   "metadata": {},
   "outputs": [],
   "source": []
  },
  {
   "cell_type": "code",
   "execution_count": null,
   "metadata": {},
   "outputs": [],
   "source": []
  },
  {
   "cell_type": "code",
   "execution_count": null,
   "metadata": {},
   "outputs": [],
   "source": []
  }
 ],
 "metadata": {
  "kernelspec": {
   "display_name": "Python 3",
   "language": "python",
   "name": "python3"
  }
 },
 "nbformat": 4,
 "nbformat_minor": 2
}
