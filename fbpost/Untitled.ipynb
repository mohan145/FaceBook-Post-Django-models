{
 "cells": [
  {
   "cell_type": "code",
   "execution_count": 1,
   "metadata": {},
   "outputs": [
    {
     "data": {
      "text/plain": [
       "'fbpost.settings'"
      ]
     },
     "execution_count": 1,
     "metadata": {},
     "output_type": "execute_result"
    }
   ],
   "source": [
    "import django\n",
    "import os\n",
    "os.environ.setdefault('DJANGO_SETTINGS_MODULE', 'fbpost.settings')\n"
   ]
  },
  {
   "cell_type": "code",
   "execution_count": 2,
   "metadata": {},
   "outputs": [],
   "source": [
    "django.setup()"
   ]
  },
  {
   "cell_type": "code",
   "execution_count": 3,
   "metadata": {},
   "outputs": [],
   "source": [
    "from postv1.models import User ,Post ,Reaction"
   ]
  },
  {
   "cell_type": "code",
   "execution_count": 4,
   "metadata": {},
   "outputs": [],
   "source": [
    "u1=User(name='kmk',profile_pic_url=\"xyz.com\")\n",
    "u1.save()"
   ]
  },
  {
   "cell_type": "code",
   "execution_count": 5,
   "metadata": {},
   "outputs": [],
   "source": [
    "u2=User(name='mohan',profile_pic_url='mohan@xyz.com')\n",
    "u2.save()"
   ]
  },
  {
   "cell_type": "code",
   "execution_count": 6,
   "metadata": {},
   "outputs": [
    {
     "data": {
      "text/plain": [
       "<QuerySet [<User: User object (10)>, <User: User object (11)>, <User: User object (12)>, <User: User object (13)>, <User: User object (14)>]>"
      ]
     },
     "execution_count": 6,
     "metadata": {},
     "output_type": "execute_result"
    }
   ],
   "source": [
    "User.objects.all()"
   ]
  },
  {
   "cell_type": "code",
   "execution_count": 7,
   "metadata": {},
   "outputs": [],
   "source": [
    "import datetime"
   ]
  },
  {
   "cell_type": "code",
   "execution_count": 8,
   "metadata": {},
   "outputs": [],
   "source": [
    "p1=Post(posted_by=u1,content='kmk first post')\n",
    "p1.save()\n",
    "\n",
    "p2=Post(posted_by=u2,content='mohan first post')\n",
    "p2.save()\n"
   ]
  },
  {
   "cell_type": "code",
   "execution_count": 9,
   "metadata": {},
   "outputs": [
    {
     "data": {
      "text/plain": [
       "<QuerySet [<Post: Post object (22)>]>"
      ]
     },
     "execution_count": 9,
     "metadata": {},
     "output_type": "execute_result"
    }
   ],
   "source": [
    "u1.posts.all()"
   ]
  },
  {
   "cell_type": "code",
   "execution_count": 10,
   "metadata": {},
   "outputs": [
    {
     "data": {
      "text/plain": [
       "<QuerySet [<Post: Post object (23)>]>"
      ]
     },
     "execution_count": 10,
     "metadata": {},
     "output_type": "execute_result"
    }
   ],
   "source": [
    "u2.posts.all()"
   ]
  },
  {
   "cell_type": "code",
   "execution_count": 11,
   "metadata": {},
   "outputs": [],
   "source": [
    "r1=Reaction(user=u1,reaction=\"HAHA\",post=p1)\n",
    "r1.save()\n",
    "\n",
    "r2=Reaction(user=u2,reaction=\"WOW\",post=p2)\n",
    "r2.save()\n"
   ]
  },
  {
   "cell_type": "code",
   "execution_count": 12,
   "metadata": {},
   "outputs": [
    {
     "data": {
      "text/plain": [
       "<QuerySet [<Reaction: Reaction object (32)>]>"
      ]
     },
     "execution_count": 12,
     "metadata": {},
     "output_type": "execute_result"
    }
   ],
   "source": [
    "u1.reactions.all()"
   ]
  },
  {
   "cell_type": "code",
   "execution_count": 13,
   "metadata": {},
   "outputs": [
    {
     "data": {
      "text/plain": [
       "<QuerySet [<Reaction: Reaction object (32)>]>"
      ]
     },
     "execution_count": 13,
     "metadata": {},
     "output_type": "execute_result"
    }
   ],
   "source": [
    "p1.reactions.all()"
   ]
  },
  {
   "cell_type": "code",
   "execution_count": 14,
   "metadata": {},
   "outputs": [
    {
     "ename": "Exception",
     "evalue": "User not found",
     "output_type": "error",
     "traceback": [
      "\u001b[0;31m---------------------------------------------------------------------------\u001b[0m",
      "\u001b[0;31mDoesNotExist\u001b[0m                              Traceback (most recent call last)",
      "\u001b[0;32m<ipython-input-14-2887fd78159a>\u001b[0m in \u001b[0;36mget_post\u001b[0;34m(post_id)\u001b[0m\n\u001b[1;32m      5\u001b[0m     \u001b[0;32mtry\u001b[0m\u001b[0;34m:\u001b[0m\u001b[0;34m\u001b[0m\u001b[0;34m\u001b[0m\u001b[0m\n\u001b[0;32m----> 6\u001b[0;31m         \u001b[0mpost\u001b[0m\u001b[0;34m=\u001b[0m\u001b[0mPost\u001b[0m\u001b[0;34m.\u001b[0m\u001b[0mobjects\u001b[0m\u001b[0;34m.\u001b[0m\u001b[0mget\u001b[0m\u001b[0;34m(\u001b[0m\u001b[0mid\u001b[0m\u001b[0;34m=\u001b[0m\u001b[0mpost_id\u001b[0m\u001b[0;34m)\u001b[0m\u001b[0;34m\u001b[0m\u001b[0;34m\u001b[0m\u001b[0m\n\u001b[0m\u001b[1;32m      7\u001b[0m     \u001b[0;32mexcept\u001b[0m \u001b[0mPost\u001b[0m\u001b[0;34m.\u001b[0m\u001b[0mDoesNotExist\u001b[0m\u001b[0;34m:\u001b[0m\u001b[0;34m\u001b[0m\u001b[0;34m\u001b[0m\u001b[0m\n",
      "\u001b[0;32m~/PycharmProjects/fbpost/venv/lib/python3.7/site-packages/django/db/models/manager.py\u001b[0m in \u001b[0;36mmanager_method\u001b[0;34m(self, *args, **kwargs)\u001b[0m\n\u001b[1;32m     81\u001b[0m             \u001b[0;32mdef\u001b[0m \u001b[0mmanager_method\u001b[0m\u001b[0;34m(\u001b[0m\u001b[0mself\u001b[0m\u001b[0;34m,\u001b[0m \u001b[0;34m*\u001b[0m\u001b[0margs\u001b[0m\u001b[0;34m,\u001b[0m \u001b[0;34m**\u001b[0m\u001b[0mkwargs\u001b[0m\u001b[0;34m)\u001b[0m\u001b[0;34m:\u001b[0m\u001b[0;34m\u001b[0m\u001b[0;34m\u001b[0m\u001b[0m\n\u001b[0;32m---> 82\u001b[0;31m                 \u001b[0;32mreturn\u001b[0m \u001b[0mgetattr\u001b[0m\u001b[0;34m(\u001b[0m\u001b[0mself\u001b[0m\u001b[0;34m.\u001b[0m\u001b[0mget_queryset\u001b[0m\u001b[0;34m(\u001b[0m\u001b[0;34m)\u001b[0m\u001b[0;34m,\u001b[0m \u001b[0mname\u001b[0m\u001b[0;34m)\u001b[0m\u001b[0;34m(\u001b[0m\u001b[0;34m*\u001b[0m\u001b[0margs\u001b[0m\u001b[0;34m,\u001b[0m \u001b[0;34m**\u001b[0m\u001b[0mkwargs\u001b[0m\u001b[0;34m)\u001b[0m\u001b[0;34m\u001b[0m\u001b[0;34m\u001b[0m\u001b[0m\n\u001b[0m\u001b[1;32m     83\u001b[0m             \u001b[0mmanager_method\u001b[0m\u001b[0;34m.\u001b[0m\u001b[0m__name__\u001b[0m \u001b[0;34m=\u001b[0m \u001b[0mmethod\u001b[0m\u001b[0;34m.\u001b[0m\u001b[0m__name__\u001b[0m\u001b[0;34m\u001b[0m\u001b[0;34m\u001b[0m\u001b[0m\n",
      "\u001b[0;32m~/PycharmProjects/fbpost/venv/lib/python3.7/site-packages/django/db/models/query.py\u001b[0m in \u001b[0;36mget\u001b[0;34m(self, *args, **kwargs)\u001b[0m\n\u001b[1;32m    407\u001b[0m                 \u001b[0;34m\"%s matching query does not exist.\"\u001b[0m \u001b[0;34m%\u001b[0m\u001b[0;34m\u001b[0m\u001b[0;34m\u001b[0m\u001b[0m\n\u001b[0;32m--> 408\u001b[0;31m                 \u001b[0mself\u001b[0m\u001b[0;34m.\u001b[0m\u001b[0mmodel\u001b[0m\u001b[0;34m.\u001b[0m\u001b[0m_meta\u001b[0m\u001b[0;34m.\u001b[0m\u001b[0mobject_name\u001b[0m\u001b[0;34m\u001b[0m\u001b[0;34m\u001b[0m\u001b[0m\n\u001b[0m\u001b[1;32m    409\u001b[0m             )\n",
      "\u001b[0;31mDoesNotExist\u001b[0m: Post matching query does not exist.",
      "\nDuring handling of the above exception, another exception occurred:\n",
      "\u001b[0;31mException\u001b[0m                                 Traceback (most recent call last)",
      "\u001b[0;32m<ipython-input-14-2887fd78159a>\u001b[0m in \u001b[0;36m<module>\u001b[0;34m\u001b[0m\n\u001b[1;32m     48\u001b[0m \u001b[0;34m\u001b[0m\u001b[0m\n\u001b[1;32m     49\u001b[0m \u001b[0;34m\u001b[0m\u001b[0m\n\u001b[0;32m---> 50\u001b[0;31m \u001b[0mprint\u001b[0m\u001b[0;34m(\u001b[0m\u001b[0mget_post\u001b[0m\u001b[0;34m(\u001b[0m\u001b[0;36m1\u001b[0m\u001b[0;34m)\u001b[0m\u001b[0;34m)\u001b[0m\u001b[0;34m\u001b[0m\u001b[0;34m\u001b[0m\u001b[0m\n\u001b[0m",
      "\u001b[0;32m<ipython-input-14-2887fd78159a>\u001b[0m in \u001b[0;36mget_post\u001b[0;34m(post_id)\u001b[0m\n\u001b[1;32m      6\u001b[0m         \u001b[0mpost\u001b[0m\u001b[0;34m=\u001b[0m\u001b[0mPost\u001b[0m\u001b[0;34m.\u001b[0m\u001b[0mobjects\u001b[0m\u001b[0;34m.\u001b[0m\u001b[0mget\u001b[0m\u001b[0;34m(\u001b[0m\u001b[0mid\u001b[0m\u001b[0;34m=\u001b[0m\u001b[0mpost_id\u001b[0m\u001b[0;34m)\u001b[0m\u001b[0;34m\u001b[0m\u001b[0;34m\u001b[0m\u001b[0m\n\u001b[1;32m      7\u001b[0m     \u001b[0;32mexcept\u001b[0m \u001b[0mPost\u001b[0m\u001b[0;34m.\u001b[0m\u001b[0mDoesNotExist\u001b[0m\u001b[0;34m:\u001b[0m\u001b[0;34m\u001b[0m\u001b[0;34m\u001b[0m\u001b[0m\n\u001b[0;32m----> 8\u001b[0;31m         \u001b[0;32mraise\u001b[0m \u001b[0mException\u001b[0m\u001b[0;34m(\u001b[0m\u001b[0;34m\"User not found\"\u001b[0m\u001b[0;34m)\u001b[0m\u001b[0;34m\u001b[0m\u001b[0;34m\u001b[0m\u001b[0m\n\u001b[0m\u001b[1;32m      9\u001b[0m \u001b[0;34m\u001b[0m\u001b[0m\n\u001b[1;32m     10\u001b[0m \u001b[0;34m\u001b[0m\u001b[0m\n",
      "\u001b[0;31mException\u001b[0m: User not found"
     ]
    }
   ],
   "source": [
    "def get_post(post_id):\n",
    "\n",
    "    \n",
    "    result=dict()\n",
    "    try:\n",
    "        post=Post.objects.get(id=post_id)\n",
    "    except Post.DoesNotExist:\n",
    "        raise Exception(\"User not found\")\n",
    "        \n",
    "        \n",
    "    result.update({\"posted_id\":post_id})\n",
    "\n",
    "    result.update({\"posted_at\":str(post.posted_at)})\n",
    "\n",
    "    result.update({\"post_content\":post.content})\n",
    "    \n",
    "    reactionslist=[]\n",
    "    \n",
    "    #fetching user data\n",
    "    userdata={}\n",
    "    \n",
    "    userdata.update({\"name\":post.posted_by.name})\n",
    "    userdata.update({\"user_id\":post.posted_by.id})\n",
    "    userdata.update({\"profile_pic_url\":post.posted_by.profile_pic_url})\n",
    "    \n",
    "    result.update({\"posted_by\":userdata})\n",
    "    \n",
    "    \n",
    "    \n",
    "    \n",
    "    \n",
    "    #fetching reactions data\n",
    "    \n",
    "    for x in post.reactions.all():\n",
    "        reactionslist.append(x.reaction)\n",
    "        \n",
    "    reactiondata={}\n",
    "    reactiondata.update({\"count\":len(reactionslist)})\n",
    "    reactiondata.update({\"type\":list(set(reactionslist))})\n",
    "    \n",
    "    \n",
    "    result.update({\"reactions\":reactiondata})\n",
    "    \n",
    "    \n",
    "    return result\n",
    "\n",
    "\n",
    "\n",
    "\n",
    "print(get_post(1))\n"
   ]
  },
  {
   "cell_type": "code",
   "execution_count": null,
   "metadata": {},
   "outputs": [],
   "source": [
    "p3=Post(content='kmk second post',posted_by=u1)\n",
    "p3.save()"
   ]
  },
  {
   "cell_type": "code",
   "execution_count": null,
   "metadata": {},
   "outputs": [],
   "source": [
    "User.objects.get(id=1)"
   ]
  },
  {
   "cell_type": "code",
   "execution_count": null,
   "metadata": {},
   "outputs": [],
   "source": [
    "post=User.objects.get(id=1).posts.all()"
   ]
  },
  {
   "cell_type": "code",
   "execution_count": null,
   "metadata": {},
   "outputs": [],
   "source": [
    "post"
   ]
  },
  {
   "cell_type": "code",
   "execution_count": null,
   "metadata": {},
   "outputs": [],
   "source": [
    "def get_user_posts(user_id):\n",
    "    \n",
    "    \n",
    "    try:\n",
    "        user=User.objects.get(id=user_id)\n",
    "    except User.DoesNotExist:\n",
    "        raise Exception(\"User not found\")\n",
    "    posts=user.posts.all()\n",
    "    \n",
    "    \n",
    "    result=list()\n",
    "    \n",
    "    for post in posts:\n",
    "        \n",
    "        result.append(get_post(post.id))\n",
    "        \n",
    "    return result\n",
    "    \n",
    "    "
   ]
  },
  {
   "cell_type": "code",
   "execution_count": null,
   "metadata": {},
   "outputs": [],
   "source": [
    "get_user_posts(2)"
   ]
  },
  {
   "cell_type": "code",
   "execution_count": null,
   "metadata": {},
   "outputs": [],
   "source": [
    "User.objects.all()"
   ]
  },
  {
   "cell_type": "code",
   "execution_count": null,
   "metadata": {},
   "outputs": [],
   "source": [
    "u3=User(name=\"mohan2\",profile_pic_url=\"mohan2@xyz.com\")\n",
    "u3.save()"
   ]
  },
  {
   "cell_type": "code",
   "execution_count": null,
   "metadata": {},
   "outputs": [],
   "source": [
    "Post.objects.all()"
   ]
  },
  {
   "cell_type": "code",
   "execution_count": null,
   "metadata": {},
   "outputs": [],
   "source": [
    "p4=Post(content=\"to be deleted post\",posted_by=u3)\n",
    "p4.save()"
   ]
  },
  {
   "cell_type": "code",
   "execution_count": null,
   "metadata": {},
   "outputs": [],
   "source": []
  },
  {
   "cell_type": "code",
   "execution_count": null,
   "metadata": {},
   "outputs": [],
   "source": [
    "r3=Reaction(user=u3,reaction=\"HAHA\",post=p4)\n",
    "r3.save()"
   ]
  },
  {
   "cell_type": "code",
   "execution_count": null,
   "metadata": {},
   "outputs": [],
   "source": [
    "p4=Post(content=\"to be deleted post\",posted_by=u3)\n",
    "p4.save()"
   ]
  },
  {
   "cell_type": "code",
   "execution_count": null,
   "metadata": {},
   "outputs": [],
   "source": [
    "r3=Reaction(user=u3,reaction=\"HAHA\",post=p4)\n",
    "r3.save()"
   ]
  },
  {
   "cell_type": "code",
   "execution_count": null,
   "metadata": {},
   "outputs": [],
   "source": [
    "Reaction.objects.all()"
   ]
  },
  {
   "cell_type": "code",
   "execution_count": null,
   "metadata": {},
   "outputs": [],
   "source": [
    "Post.objects.all()[3].reactions.all()"
   ]
  },
  {
   "cell_type": "code",
   "execution_count": null,
   "metadata": {},
   "outputs": [],
   "source": [
    "def delete_post(post_id):\n",
    "    \n",
    "    try:\n",
    "        post_to_delete=Post.objects.get(id=post_id)\n",
    "    except post.DoesNotExist:\n",
    "        raise Exception(\"Post not Found\")\n",
    "    post_to_delete.delete()\n",
    "    \n",
    "delete_post(6)\n",
    "    "
   ]
  },
  {
   "cell_type": "code",
   "execution_count": null,
   "metadata": {},
   "outputs": [],
   "source": [
    "User.objects.all()"
   ]
  },
  {
   "cell_type": "code",
   "execution_count": null,
   "metadata": {},
   "outputs": [],
   "source": [
    "Reaction.objects.all()"
   ]
  },
  {
   "cell_type": "code",
   "execution_count": null,
   "metadata": {},
   "outputs": [],
   "source": [
    "u2.posts.all()[0].id"
   ]
  },
  {
   "cell_type": "code",
   "execution_count": null,
   "metadata": {},
   "outputs": [],
   "source": [
    "def react_to_post(user_id,post_id,reaction_type):\n",
    "    \n",
    "    try:\n",
    "        u=User.objects.get(id=user_id)\n",
    "    except User.DoesNotExist:\n",
    "        raise Exception(\"User does not exist\")\n",
    "        \n",
    "    try:    \n",
    "        p=Post.objects.get(id=post_id)\n",
    "    except Post.DoesNotExist:\n",
    "        raise Exception(\"Post does not exist\")\n",
    "     \n",
    "    if reaction_type not in [\"HAHA\",\"WOW\",\"LIKE\",\"LOVE\",\"SAD\"]:\n",
    "        raise Exception(\"Reaction does not exist\")\n",
    "        \n",
    "       \n",
    "    try :\n",
    "        react=Reaction.objects.get(user_id=u.id , post_id=p.id)\n",
    "        if react.reaction==reaction_type:\n",
    "            react.delete()\n",
    "        else:\n",
    "            react.reaction=reaction_type\n",
    "            react.save()  \n",
    "    \n",
    "    except:\n",
    "        \n",
    "               \n",
    "        Reaction.objects.create(user=u,reaction=reaction_type,post=p)\n",
    "        \n",
    "        \n",
    "        \n",
    "        \n",
    "    \n",
    "    \n",
    "    \n",
    "    \n",
    "    \n",
    "    \n",
    "    \n",
    "\n",
    "\n"
   ]
  },
  {
   "cell_type": "code",
   "execution_count": null,
   "metadata": {},
   "outputs": [],
   "source": [
    "User.objects.all()[0].posts.all()[0].reactions.all()[0].reaction\n",
    "Reaction.objects.all()[0].post.reactions.all()[0].reaction"
   ]
  },
  {
   "cell_type": "code",
   "execution_count": null,
   "metadata": {},
   "outputs": [],
   "source": [
    "react_to_post(1,11,\"WOW\")"
   ]
  },
  {
   "cell_type": "code",
   "execution_count": null,
   "metadata": {},
   "outputs": [],
   "source": [
    "Reaction.objects.all()[0].post.reactions.all()[0].reaction"
   ]
  },
  {
   "cell_type": "code",
   "execution_count": null,
   "metadata": {},
   "outputs": [],
   "source": [
    "Reaction.objects.all()"
   ]
  },
  {
   "cell_type": "code",
   "execution_count": null,
   "metadata": {},
   "outputs": [],
   "source": [
    "u1"
   ]
  },
  {
   "cell_type": "code",
   "execution_count": null,
   "metadata": {},
   "outputs": [],
   "source": [
    "p1\n"
   ]
  },
  {
   "cell_type": "code",
   "execution_count": null,
   "metadata": {},
   "outputs": [],
   "source": [
    "p1.save()"
   ]
  },
  {
   "cell_type": "code",
   "execution_count": null,
   "metadata": {},
   "outputs": [],
   "source": [
    "p2.save()"
   ]
  },
  {
   "cell_type": "code",
   "execution_count": null,
   "metadata": {},
   "outputs": [],
   "source": [
    "Post.objects.all()"
   ]
  },
  {
   "cell_type": "code",
   "execution_count": null,
   "metadata": {},
   "outputs": [],
   "source": [
    "r1"
   ]
  },
  {
   "cell_type": "code",
   "execution_count": null,
   "metadata": {},
   "outputs": [],
   "source": [
    "r1.save()"
   ]
  },
  {
   "cell_type": "code",
   "execution_count": null,
   "metadata": {},
   "outputs": [],
   "source": [
    "r2.save()"
   ]
  },
  {
   "cell_type": "code",
   "execution_count": null,
   "metadata": {},
   "outputs": [],
   "source": [
    "Reaction.objects.all()"
   ]
  },
  {
   "cell_type": "code",
   "execution_count": null,
   "metadata": {},
   "outputs": [],
   "source": [
    "r4=Reaction(user=u1,reaction=\"LIKE\",post=p2)\n",
    "r4.save()"
   ]
  },
  {
   "cell_type": "code",
   "execution_count": null,
   "metadata": {},
   "outputs": [],
   "source": [
    "def "
   ]
  },
  {
   "cell_type": "code",
   "execution_count": null,
   "metadata": {},
   "outputs": [],
   "source": [
    "def get_posts_reacted_by_user(user_id):\n",
    "    \n",
    "    try:\n",
    "        u=User.objects.get(id=user_id)\n",
    "    except User.DoesNotExist:\n",
    "        raise Exception(\"User does not exist\")\n",
    "        \n",
    "        \n",
    "    reactions=u.reactions.all()\n",
    "        \n",
    "        \n",
    "    postsdata=list()\n",
    "        \n",
    "    for x in reactions:\n",
    "        postsdata.append(get_post(x.post.id))\n",
    "        \n",
    "        \n",
    "    return postsdata\n",
    "\n",
    "\n",
    "\n",
    "\n",
    "get_posts_reacted_by_user(2)\n",
    "        \n",
    "    \n",
    "              \n",
    "\n",
    "        "
   ]
  },
  {
   "cell_type": "code",
   "execution_count": null,
   "metadata": {},
   "outputs": [],
   "source": [
    "def get_reactions_to_post(post_id):\n",
    "    \n",
    "    try:    \n",
    "        p=Post.objects.get(id=post_id)\n",
    "    except Post.DoesNotExist:\n",
    "        raise Exception(\"Post does not exist\")\n",
    "        \n",
    "    \n",
    "    reactions=p.reactions.all()\n",
    "    \n",
    "    result=[]\n",
    "    \n",
    "    \n",
    "    for x in reactions:\n",
    "        \n",
    "        temp={}\n",
    "        \n",
    "        temp.update({\"user_id\":x.user.id})\n",
    "        temp.update({\"name\":x.user.name})\n",
    "        temp.update({\"profile_pic\":x.user.profile_pic_url})\n",
    "        \n",
    "        temp.update({\"reaction\":x.reaction})\n",
    "        \n",
    "        result.append(temp)\n",
    "    \n",
    "    return result\n",
    "    \n",
    "get_reactions_to_post(2)\n",
    "        \n",
    "        \n",
    "        "
   ]
  },
  {
   "cell_type": "code",
   "execution_count": null,
   "metadata": {},
   "outputs": [],
   "source": [
    "for x in p1.reactions.all():\n",
    "    \n",
    "    print (x.reaction)"
   ]
  },
  {
   "cell_type": "code",
   "execution_count": 306,
   "metadata": {},
   "outputs": [
    {
     "data": {
      "text/plain": [
       "[{'reaction': 'ANGRY', 'count': 5},\n",
       " {'reaction': 'HAHA', 'count': 1},\n",
       " {'reaction': 'SAD', 'count': 5}]"
      ]
     },
     "execution_count": 306,
     "metadata": {},
     "output_type": "execute_result"
    }
   ],
   "source": [
    "def get_reaction_metrics(post_id):\n",
    "    \n",
    "    try:    \n",
    "        p=Post.objects.get(id=post_id)\n",
    "    except Post.DoesNotExist:\n",
    "        raise Exception(\"Post does not exist\")\n",
    "    \n",
    "\n",
    "    \n",
    "    c=Count('reaction')\n",
    "\n",
    "    temp=Reaction.objects.filter(post_id=19).values('reaction').annotate(count=c)\n",
    "    \n",
    "    \n",
    "    return list(temp)\n",
    "    \n",
    "    \n",
    "    \n",
    "get_reaction_metrics(19)\n",
    "        \n",
    "        \n",
    "        "
   ]
  },
  {
   "cell_type": "code",
   "execution_count": 302,
   "metadata": {},
   "outputs": [
    {
     "data": {
      "text/plain": [
       "[{'reaction': 'ANGRY', 'count': 5},\n",
       " {'reaction': 'HAHA', 'count': 1},\n",
       " {'reaction': 'SAD', 'count': 5}]"
      ]
     },
     "execution_count": 302,
     "metadata": {},
     "output_type": "execute_result"
    }
   ],
   "source": [
    "\n",
    "c=Count('reaction')\n",
    "#print(c)\n",
    "temp=Reaction.objects.filter(post_id=19).values('reaction').annotate(count=c)\n",
    "temp=list(temp)\n",
    "temp\n",
    "\n",
    "\n",
    "\n"
   ]
  },
  {
   "cell_type": "code",
   "execution_count": 331,
   "metadata": {},
   "outputs": [
    {
     "data": {
      "text/plain": [
       "[20, 21, 22, 23]"
      ]
     },
     "execution_count": 331,
     "metadata": {},
     "output_type": "execute_result"
    }
   ],
   "source": [
    "from django.db.models import Count ,Q ,F\n",
    "\n",
    "\n",
    "\n",
    "\n",
    "class ReactionType(Enum):\n",
    "    LOL = \"LOL\"\n",
    "    HAHA =\"HAHA\"\n",
    "    WOW = \"WOW\"\n",
    "    LIKE = \"LIKE\"\n",
    "    SAD = \"SAD\"\n",
    "    ANGRY =\" ANGRY\"\n",
    "    LOVE = \"LOVE\"\n",
    "def get_posts_with_more_positive_reactions():\n",
    "    \n",
    "    pos=[ReactionType.LOL.value,ReactionType.HAHA.value\n",
    "         ,ReactionType.WOW.value,ReactionType.LIKE.value\n",
    "        ,ReactionType.LOVE.value]\n",
    "    \n",
    "    negs=[ReactionType.SAD.value,ReactionType.ANGRY.value]       \n",
    "    \n",
    "    res_post_ids=list()    \n",
    "    pos_r = Count('reaction',filter=Q(reaction__in=pos))\n",
    "    neg_r = Count('reaction',filter=Q(reaction__in=negs))\n",
    "                \n",
    "    check_count = Reaction.objects.exclude(post = None).values('post_id').annotate(pos_reac=pos_r).annotate(neg_reac=neg_r)\n",
    "    \n",
    "    for x in check_count:\n",
    "        \n",
    "        if x['pos_reac'] > x['neg_reac']:\n",
    "            res_post_ids.append(x['post_id'])\n",
    "      \n",
    "    \n",
    "    return res_post_ids\n",
    "            \n",
    "            \n",
    "            \n",
    "            \n",
    "            \n",
    "        \n",
    "        \n",
    "get_posts_with_more_positive_reactions()"
   ]
  },
  {
   "cell_type": "code",
   "execution_count": 227,
   "metadata": {},
   "outputs": [
    {
     "ename": "AttributeError",
     "evalue": "'Manager' object has no attribute 'value__set'",
     "output_type": "error",
     "traceback": [
      "\u001b[0;31m---------------------------------------------------------------------------\u001b[0m",
      "\u001b[0;31mAttributeError\u001b[0m                            Traceback (most recent call last)",
      "\u001b[0;32m<ipython-input-227-42f273e80f99>\u001b[0m in \u001b[0;36m<module>\u001b[0;34m\u001b[0m\n\u001b[0;32m----> 1\u001b[0;31m \u001b[0mr\u001b[0m\u001b[0;34m=\u001b[0m\u001b[0mReaction\u001b[0m\u001b[0;34m.\u001b[0m\u001b[0mobjects\u001b[0m\u001b[0;34m.\u001b[0m\u001b[0mvalue__set\u001b[0m\u001b[0;34m(\u001b[0m\u001b[0;34m'reaction'\u001b[0m\u001b[0;34m)\u001b[0m\u001b[0;34m.\u001b[0m\u001b[0mdistinct\u001b[0m\u001b[0;34m(\u001b[0m\u001b[0;34m)\u001b[0m\u001b[0;34m\u001b[0m\u001b[0;34m\u001b[0m\u001b[0m\n\u001b[0m\u001b[1;32m      2\u001b[0m \u001b[0mr\u001b[0m\u001b[0;34m\u001b[0m\u001b[0;34m\u001b[0m\u001b[0m\n",
      "\u001b[0;31mAttributeError\u001b[0m: 'Manager' object has no attribute 'value__set'"
     ]
    }
   ],
   "source": [
    "r=Reaction.objects.value__set('reaction').distinct()\n",
    "r"
   ]
  },
  {
   "cell_type": "code",
   "execution_count": 196,
   "metadata": {},
   "outputs": [
    {
     "data": {
      "text/plain": [
       "<QuerySet [<Reaction: Reaction object (22)>, <Reaction: Reaction object (34)>, <Reaction: Reaction object (35)>, <Reaction: Reaction object (36)>, <Reaction: Reaction object (37)>, <Reaction: Reaction object (38)>, <Reaction: Reaction object (39)>, <Reaction: Reaction object (40)>, <Reaction: Reaction object (41)>, <Reaction: Reaction object (42)>, <Reaction: Reaction object (43)>]>"
      ]
     },
     "execution_count": 196,
     "metadata": {},
     "output_type": "execute_result"
    }
   ],
   "source": [
    "\n",
    "temp=Post.objects.get(id=19)\n",
    "\n",
    "temp.reactions.all()"
   ]
  },
  {
   "cell_type": "code",
   "execution_count": 199,
   "metadata": {},
   "outputs": [
    {
     "name": "stdout",
     "output_type": "stream",
     "text": [
      "Post object (19)\n",
      "Post object (20)\n",
      "Post object (21)\n",
      "Post object (22)\n",
      "Post object (23)\n"
     ]
    }
   ],
   "source": [
    "for x in Post.objects.all():\n",
    "    print(x)"
   ]
  },
  {
   "cell_type": "code",
   "execution_count": null,
   "metadata": {},
   "outputs": [],
   "source": [
    "negr1=Reaction(user=u1,reaction=\"SAD\",post=temp)\n",
    "negr1.save()\n",
    "negr2=Reaction(user=u2,reaction=\"ANGRY\",post=temp)\n",
    "negr2.save()"
   ]
  },
  {
   "cell_type": "code",
   "execution_count": null,
   "metadata": {},
   "outputs": [],
   "source": []
  },
  {
   "cell_type": "code",
   "execution_count": null,
   "metadata": {},
   "outputs": [],
   "source": [
    "temp=User.objects.all()[0]"
   ]
  },
  {
   "cell_type": "code",
   "execution_count": null,
   "metadata": {},
   "outputs": [],
   "source": [
    "temp.posts.all()[2].content"
   ]
  },
  {
   "cell_type": "code",
   "execution_count": 21,
   "metadata": {},
   "outputs": [],
   "source": [
    "from postv1.models import User ,Post ,Comment ,Reaction\n"
   ]
  },
  {
   "cell_type": "code",
   "execution_count": null,
   "metadata": {},
   "outputs": [],
   "source": [
    "Post.objects.all()"
   ]
  },
  {
   "cell_type": "code",
   "execution_count": null,
   "metadata": {},
   "outputs": [],
   "source": [
    "Reaction.objects.all()"
   ]
  },
  {
   "cell_type": "code",
   "execution_count": null,
   "metadata": {},
   "outputs": [],
   "source": [
    "Comment.objects.all()"
   ]
  },
  {
   "cell_type": "code",
   "execution_count": null,
   "metadata": {},
   "outputs": [],
   "source": [
    "User.objects.all()"
   ]
  },
  {
   "cell_type": "code",
   "execution_count": null,
   "metadata": {},
   "outputs": [],
   "source": [
    "User.objects.all()\n"
   ]
  },
  {
   "cell_type": "code",
   "execution_count": null,
   "metadata": {},
   "outputs": [],
   "source": [
    "u1=User(name=\"kmk\",profile_pic_url=\"kmk@xyz.com\")\n",
    "u1.save()"
   ]
  },
  {
   "cell_type": "code",
   "execution_count": null,
   "metadata": {},
   "outputs": [],
   "source": [
    "p1=Post(content=\"kmk first post\",posted_by=u1)\n",
    "p1.save()"
   ]
  },
  {
   "cell_type": "code",
   "execution_count": null,
   "metadata": {},
   "outputs": [],
   "source": [
    "def add_comment(post_id,comment_user_id,comment_text):\n",
    "    \n",
    "    try:\n",
    "        p=Post.objects.get(id=post_id)\n",
    "    except Post.DoesNotExist:\n",
    "        raise Exception(\"Post doesnot Exists\")\n",
    "    \n",
    "    try:\n",
    "        u=User.objects.get(id=comment_user_id)\n",
    "    except User.DoesNotExist:\n",
    "        raise Exception(\"User doesnot Exists\")\n",
    "\n",
    "    c=Comment.objects.create(content=comment_text,commented_by=u,post=p)\n",
    "    \n",
    "    \n",
    "    return c.id\n",
    "\n",
    "add_comment(19,10,\"first comment\")"
   ]
  },
  {
   "cell_type": "code",
   "execution_count": null,
   "metadata": {},
   "outputs": [],
   "source": [
    "Post.objects.all()[0].comments.all()[0].content"
   ]
  },
  {
   "cell_type": "code",
   "execution_count": null,
   "metadata": {},
   "outputs": [],
   "source": [
    "Post.objects.all()[0].reactions.all()"
   ]
  },
  {
   "cell_type": "code",
   "execution_count": null,
   "metadata": {},
   "outputs": [],
   "source": [
    "Comment.objects.all()[0].reactions.all()"
   ]
  },
  {
   "cell_type": "code",
   "execution_count": null,
   "metadata": {},
   "outputs": [],
   "source": [
    "r1=Reaction(user=u1,reaction=\"HAHA\",post=p1)\n",
    "r1.save()"
   ]
  },
  {
   "cell_type": "code",
   "execution_count": null,
   "metadata": {},
   "outputs": [],
   "source": [
    "Post.objects.all()[0].reactions.all()[0].reaction"
   ]
  },
  {
   "cell_type": "code",
   "execution_count": null,
   "metadata": {},
   "outputs": [],
   "source": [
    "r2=Reaction(user=u1,reaction=\"LIKE\",comment=Comment.objects.get(id=2))\n",
    "r2.save()"
   ]
  },
  {
   "cell_type": "code",
   "execution_count": null,
   "metadata": {},
   "outputs": [],
   "source": []
  },
  {
   "cell_type": "code",
   "execution_count": null,
   "metadata": {},
   "outputs": [],
   "source": [
    "r2=Reaction(user=u1,reaction=\"Like\",comment=c)\n",
    "r2.save()"
   ]
  },
  {
   "cell_type": "code",
   "execution_count": null,
   "metadata": {},
   "outputs": [],
   "source": []
  },
  {
   "cell_type": "code",
   "execution_count": 321,
   "metadata": {},
   "outputs": [
    {
     "data": {
      "text/plain": [
       "{'posted_id': 19,\n",
       " 'posted_at': '2019-07-04 07:31:56.343523',\n",
       " 'post_content': 'kmk first post',\n",
       " 'posted_by': {'name': 'kmk', 'user_id': 10, 'profile_pic_url': 'kmk@xyz.com'},\n",
       " 'reactions': {'count': 11, 'type': ['HAHA', 'SAD', 'ANGRY']},\n",
       " 'comments': [{'comment_id': 1,\n",
       "   'commenter': {'name': 'kmk',\n",
       "    'user_id': 10,\n",
       "    'profile_pic_url': 'kmk@xyz.com'},\n",
       "   'commented_at': '2019-07-04 07:44:14.347524',\n",
       "   'comment_content:': 'first comment',\n",
       "   'reactions': {'count': 1, 'type': ['WOW']},\n",
       "   'replies count': 1,\n",
       "   'replies': [{'comment_id': 2,\n",
       "     'commenter': {'name': 'kmk',\n",
       "      'user_id': 10,\n",
       "      'profile_pic_url': 'kmk@xyz.com'},\n",
       "     'commented_at': '2019-07-04 11:14:28.938529',\n",
       "     'comment_content:': 'reply to a comment',\n",
       "     'reactions': {'count': 0, 'type': []}}]}],\n",
       " 'comments_count': 1}"
      ]
     },
     "execution_count": 321,
     "metadata": {},
     "output_type": "execute_result"
    }
   ],
   "source": [
    "from enum import Enum\n",
    "\n",
    "\n",
    "class ReactionType(Enum):\n",
    "    LOL = \"LOL\"\n",
    "    HAHA =\"HAHA\"\n",
    "    WOW = \"WOW\"\n",
    "    LIKE = \"LIKE\"\n",
    "    SAD = \"SAD\"\n",
    "    ANGRY =\" ANGRY\"\n",
    "    \n",
    "\n",
    "    \n",
    "#ReactionType.LOL.value\n",
    "#\"LOL\"\n",
    "\n",
    "def get_user_data(user):\n",
    "    user_data={}\n",
    "    user_data.update({\"name\":user.name})\n",
    "    user_data.update({\"user_id\":user.id})\n",
    "    user_data.update({\"profile_pic_url\":user.profile_pic_url})\n",
    "    \n",
    "    return user_data\n",
    "    \n",
    "def get_reactions_data(obj):\n",
    "    reaction_data={}\n",
    "    reaction_data.update({\"count\":obj.reactions.count()})\n",
    "    types=obj.reactions.values_list('reaction',flat=True).distinct() \n",
    "    reaction_data.update({\"type\":list(types)})\n",
    "    \n",
    "    return reaction_data\n",
    "    \n",
    "    \n",
    "\n",
    "def get_post(post_id):\n",
    "    result=dict()\n",
    "    \n",
    "    try:\n",
    "        post=Post.objects.get(id=post_id)\n",
    "    except Post.DoesNotExist:\n",
    "        raise Exception(\"User not found\")\n",
    "       \n",
    "        \n",
    "    result.update({\"posted_id\":post_id})\n",
    "    result.update({\"posted_at\":post.posted_at.strftime(\"%Y-%m-%d %H:%M:%S.%f\")})\n",
    "    result.update({\"post_content\":post.content})\n",
    "    \n",
    "    \n",
    "    #fetching user data\n",
    "    user=User.objects.get(id=post.posted_by.id)\n",
    "    user_data=get_user_data(user)\n",
    "    result.update({\"posted_by\":user_data})\n",
    "    \n",
    "    \n",
    "    #fetching reactions data \n",
    "    reaction_data=get_reactions_data(post)\n",
    "    result.update({\"reactions\":reaction_data})\n",
    "    \n",
    "    \n",
    "    #getting comments\n",
    "    comments=post.comments.all()\n",
    "    comments_result=get_comments(comments)\n",
    "    \n",
    "    result.update({\"comments\":comments_result})\n",
    "    result.update({\"comments_count\":post.comments.count()})\n",
    "    \n",
    "    return result\n",
    "\n",
    "\n",
    "def get_comments(comments):\n",
    "    \n",
    "    res_list = list()\n",
    "    \n",
    "    for x in comments:\n",
    "        res_dict = dict()\n",
    "        res_dict.update({\"comment_id\":x.id})\n",
    "        \n",
    "        #user data\n",
    "        user=User.objects.get(id=x.commented_by.id)\n",
    "        user_data = get_user_data(user)\n",
    "        \n",
    "        res_dict.update({\"commenter\":user_data})\n",
    "        res_dict.update({\"commented_at\":x.commented_at.strftime(\"%Y-%m-%d %H:%M:%S.%f\")})\n",
    "        res_dict.update({\"comment_content:\":x.content})\n",
    "        \n",
    "        #fetching reactions data\n",
    "        reaction_data = get_reactions_data(x)\n",
    "        res_dict.update({\"reactions\":reaction_data})\n",
    "        \n",
    "        #handling comments and replies for same function\n",
    "        temp=get_comments(x.replies.all()) \n",
    "    \n",
    "        if  temp != None:\n",
    "            \n",
    "            res_dict.update({\"replies count\":x.replies.count()})\n",
    "            res_dict.update({\"replies\":temp})\n",
    "        \n",
    "        res_list.append(res_dict)\n",
    "        \n",
    "        return res_list\n",
    "\n",
    "get_post(19)\n",
    "\n",
    "\n",
    "\n",
    "\n",
    "\n",
    "\n",
    "\n",
    "    "
   ]
  },
  {
   "cell_type": "code",
   "execution_count": 339,
   "metadata": {},
   "outputs": [],
   "source": [
    "class ReactionType(Enum):\n",
    "    LOL = \"LOL\"\n",
    "    HAHA =\"HAHA\"\n",
    "    WOW = \"WOW\"\n",
    "    LIKE = \"LIKE\"\n",
    "    SAD = \"SAD\"\n",
    "    ANGRY =\" ANGRY\"\n",
    "    LOVE=\"LOVE\"\n",
    "    \n",
    "\n",
    "\n",
    "def react_to_comment(user_id, comment_id, reaction_type):\n",
    "    \n",
    "    try:\n",
    "        u = User.objects.get(id=user_id)\n",
    "    except User.DoesNotExist:\n",
    "        raise Exception(\"User does not exist\")\n",
    "\n",
    "    try:\n",
    "        c = Comment.objects.get(id=comment_id)\n",
    "    except Comment.DoesNotExist:\n",
    "        raise Exception(\"Comment does not exist\")\n",
    "    \n",
    "    reactions_list=[ReactionType.LOL.value,ReactionType.HAHA.value\n",
    "         ,ReactionType.WOW.value,ReactionType.LIKE.value\n",
    "        ,ReactionType.LOVE.value,\n",
    "        ReactionType.SAD.value,ReactionType.ANGRY.value]\n",
    "    \n",
    "    if reaction_type not in reactions_list:\n",
    "        raise Exception(\"Reaction does not exist\")\n",
    "\n",
    "    try:\n",
    "        react = Reaction.objects.get(user_id=u.id, comment_id=c.id)\n",
    "        if react.reaction == reaction_type:\n",
    "            react.delete()\n",
    "        else:\n",
    "            react.reaction = reaction_type\n",
    "            react.save()\n",
    "\n",
    "    except:\n",
    "\n",
    "        Reaction.objects.create(user=u, reaction=reaction_type, comment=c)\n",
    "\n",
    "    \n",
    "    "
   ]
  },
  {
   "cell_type": "code",
   "execution_count": 340,
   "metadata": {},
   "outputs": [],
   "source": [
    "react_to_comment(10,1,\"WOW\")"
   ]
  },
  {
   "cell_type": "code",
   "execution_count": null,
   "metadata": {},
   "outputs": [],
   "source": [
    "Reaction.objects.all()[1].reaction"
   ]
  },
  {
   "cell_type": "code",
   "execution_count": 16,
   "metadata": {},
   "outputs": [
    {
     "ename": "NameError",
     "evalue": "name 'Comment' is not defined",
     "output_type": "error",
     "traceback": [
      "\u001b[0;31m---------------------------------------------------------------------------\u001b[0m",
      "\u001b[0;31mNameError\u001b[0m                                 Traceback (most recent call last)",
      "\u001b[0;32m<ipython-input-16-0827c16645ee>\u001b[0m in \u001b[0;36mreply_to_comment\u001b[0;34m(comment_id, reply_user_id, reply_text)\u001b[0m\n\u001b[1;32m      3\u001b[0m     \u001b[0;32mtry\u001b[0m\u001b[0;34m:\u001b[0m\u001b[0;34m\u001b[0m\u001b[0;34m\u001b[0m\u001b[0m\n\u001b[0;32m----> 4\u001b[0;31m         \u001b[0mcomment\u001b[0m\u001b[0;34m=\u001b[0m\u001b[0mComment\u001b[0m\u001b[0;34m.\u001b[0m\u001b[0mobjects\u001b[0m\u001b[0;34m.\u001b[0m\u001b[0mget\u001b[0m\u001b[0;34m(\u001b[0m\u001b[0mid\u001b[0m\u001b[0;34m=\u001b[0m\u001b[0mcomment_id\u001b[0m\u001b[0;34m)\u001b[0m\u001b[0;34m\u001b[0m\u001b[0;34m\u001b[0m\u001b[0m\n\u001b[0m\u001b[1;32m      5\u001b[0m     \u001b[0;32mexcept\u001b[0m \u001b[0mComment\u001b[0m\u001b[0;34m.\u001b[0m\u001b[0mDoesNotExist\u001b[0m\u001b[0;34m:\u001b[0m\u001b[0;34m\u001b[0m\u001b[0;34m\u001b[0m\u001b[0m\n",
      "\u001b[0;31mNameError\u001b[0m: name 'Comment' is not defined",
      "\nDuring handling of the above exception, another exception occurred:\n",
      "\u001b[0;31mNameError\u001b[0m                                 Traceback (most recent call last)",
      "\u001b[0;32m<ipython-input-16-0827c16645ee>\u001b[0m in \u001b[0;36m<module>\u001b[0;34m\u001b[0m\n\u001b[1;32m     17\u001b[0m \u001b[0;34m\u001b[0m\u001b[0m\n\u001b[1;32m     18\u001b[0m \u001b[0;34m\u001b[0m\u001b[0m\n\u001b[0;32m---> 19\u001b[0;31m \u001b[0mreply_to_comment\u001b[0m\u001b[0;34m(\u001b[0m\u001b[0;36m1\u001b[0m\u001b[0;34m,\u001b[0m\u001b[0;36m10\u001b[0m\u001b[0;34m,\u001b[0m\u001b[0;34m\"reply to a comment\"\u001b[0m\u001b[0;34m)\u001b[0m\u001b[0;34m\u001b[0m\u001b[0;34m\u001b[0m\u001b[0m\n\u001b[0m\u001b[1;32m     20\u001b[0m \u001b[0;34m\u001b[0m\u001b[0m\n\u001b[1;32m     21\u001b[0m \u001b[0;34m\u001b[0m\u001b[0m\n",
      "\u001b[0;32m<ipython-input-16-0827c16645ee>\u001b[0m in \u001b[0;36mreply_to_comment\u001b[0;34m(comment_id, reply_user_id, reply_text)\u001b[0m\n\u001b[1;32m      3\u001b[0m     \u001b[0;32mtry\u001b[0m\u001b[0;34m:\u001b[0m\u001b[0;34m\u001b[0m\u001b[0;34m\u001b[0m\u001b[0m\n\u001b[1;32m      4\u001b[0m         \u001b[0mcomment\u001b[0m\u001b[0;34m=\u001b[0m\u001b[0mComment\u001b[0m\u001b[0;34m.\u001b[0m\u001b[0mobjects\u001b[0m\u001b[0;34m.\u001b[0m\u001b[0mget\u001b[0m\u001b[0;34m(\u001b[0m\u001b[0mid\u001b[0m\u001b[0;34m=\u001b[0m\u001b[0mcomment_id\u001b[0m\u001b[0;34m)\u001b[0m\u001b[0;34m\u001b[0m\u001b[0;34m\u001b[0m\u001b[0m\n\u001b[0;32m----> 5\u001b[0;31m     \u001b[0;32mexcept\u001b[0m \u001b[0mComment\u001b[0m\u001b[0;34m.\u001b[0m\u001b[0mDoesNotExist\u001b[0m\u001b[0;34m:\u001b[0m\u001b[0;34m\u001b[0m\u001b[0;34m\u001b[0m\u001b[0m\n\u001b[0m\u001b[1;32m      6\u001b[0m         \u001b[0;32mraise\u001b[0m \u001b[0mException\u001b[0m\u001b[0;34m(\u001b[0m\u001b[0;34m\"Comment doesnot Exists\"\u001b[0m\u001b[0;34m)\u001b[0m\u001b[0;34m\u001b[0m\u001b[0;34m\u001b[0m\u001b[0m\n\u001b[1;32m      7\u001b[0m \u001b[0;34m\u001b[0m\u001b[0m\n",
      "\u001b[0;31mNameError\u001b[0m: name 'Comment' is not defined"
     ]
    }
   ],
   "source": [
    "def reply_to_comment(comment_id, reply_user_id, reply_text):\n",
    "    \n",
    "    try:\n",
    "        comment=Comment.objects.get(id=comment_id)\n",
    "    except Comment.DoesNotExist:\n",
    "        raise Exception(\"Comment doesnot Exists\")\n",
    "    \n",
    "    try:\n",
    "        u=User.objects.get(id=reply_user_id)\n",
    "    except User.DoesNotExist:\n",
    "        raise Exception(\"User doesnot Exists\")\n",
    "\n",
    "    reply_comment=Comment.objects.create(content=reply_text,commented_by=u,parent_comment=comment)\n",
    "    \n",
    "    \n",
    "    return reply_comment.id\n",
    "\n",
    "    \n",
    "reply_to_comment(1,10,\"reply to a comment\")\n",
    "    \n",
    "    "
   ]
  },
  {
   "cell_type": "code",
   "execution_count": null,
   "metadata": {},
   "outputs": [],
   "source": [
    "Post.objects.all()[0].comments.all()[0].replies.all()[0].content"
   ]
  },
  {
   "cell_type": "code",
   "execution_count": 315,
   "metadata": {},
   "outputs": [
    {
     "data": {
      "text/plain": [
       "[{'comment_id': 2,\n",
       "  'commenter': {'name': 'kmk',\n",
       "   'user_id': 10,\n",
       "   'profile_pic_url': 'kmk@xyz.com'},\n",
       "  'commented_at': '2019-07-04 11:14:28.938529',\n",
       "  'comment_content:': 'reply to a comment',\n",
       "  'reactions': {'count': 0, 'type': []}}]"
      ]
     },
     "execution_count": 315,
     "metadata": {},
     "output_type": "execute_result"
    }
   ],
   "source": [
    "\n",
    "\n",
    "\n",
    "\n",
    "def get_replies_for_comment(comment_id):\n",
    "    \n",
    "    try:\n",
    "        comment = Comment.objects.get(id=comment_id)\n",
    "    except Comment.DoesNotExist:\n",
    "        raise Exception(\"Comment doesnot Exists\")\n",
    "        \n",
    "    replies = comment.replies.all()\n",
    "    \n",
    "    \n",
    "    result = get_comments(replies)\n",
    "    #print(result)\n",
    "    \n",
    "    return result\n",
    "\n",
    "    \n",
    "get_replies_for_comment(1)\n",
    "    \n"
   ]
  },
  {
   "cell_type": "code",
   "execution_count": 46,
   "metadata": {},
   "outputs": [
    {
     "data": {
      "text/plain": [
       "<QuerySet [<Comment: Comment object (1)>, <Comment: Comment object (2)>]>"
      ]
     },
     "execution_count": 46,
     "metadata": {},
     "output_type": "execute_result"
    }
   ],
   "source": [
    "Comment.objects.all()"
   ]
  },
  {
   "cell_type": "code",
   "execution_count": 32,
   "metadata": {},
   "outputs": [
    {
     "name": "stdout",
     "output_type": "stream",
     "text": [
      "first comment\n",
      "reply to a comment\n"
     ]
    }
   ],
   "source": [
    "print(Comment.objects.all()[0].content)\n",
    "print(Comment.objects.all()[1].content)"
   ]
  },
  {
   "cell_type": "code",
   "execution_count": 9,
   "metadata": {},
   "outputs": [
    {
     "data": {
      "text/plain": [
       "<QuerySet [<Comment: Comment object (1)>, <Comment: Comment object (2)>]>"
      ]
     },
     "execution_count": 9,
     "metadata": {},
     "output_type": "execute_result"
    }
   ],
   "source": [
    "from postv1.models import Comment\n",
    "Comment.objects.all()"
   ]
  },
  {
   "cell_type": "code",
   "execution_count": 14,
   "metadata": {},
   "outputs": [
    {
     "data": {
      "text/plain": [
       "<QuerySet [<Reaction: Reaction object (22)>, <Reaction: Reaction object (29)>, <Reaction: Reaction object (30)>, <Reaction: Reaction object (31)>, <Reaction: Reaction object (32)>, <Reaction: Reaction object (33)>]>"
      ]
     },
     "execution_count": 14,
     "metadata": {},
     "output_type": "execute_result"
    }
   ],
   "source": [
    "Reaction.objects.all()"
   ]
  },
  {
   "cell_type": "code",
   "execution_count": 18,
   "metadata": {},
   "outputs": [
    {
     "data": {
      "text/plain": [
       "<QuerySet [<Comment: Comment object (1)>, <Comment: Comment object (2)>]>"
      ]
     },
     "execution_count": 18,
     "metadata": {},
     "output_type": "execute_result"
    }
   ],
   "source": [
    "Comment.objects.all()"
   ]
  },
  {
   "cell_type": "code",
   "execution_count": 23,
   "metadata": {},
   "outputs": [
    {
     "data": {
      "text/plain": [
       "'reply to a comment'"
      ]
     },
     "execution_count": 23,
     "metadata": {},
     "output_type": "execute_result"
    }
   ],
   "source": [
    "Comment.objects.all()[1].content"
   ]
  },
  {
   "cell_type": "code",
   "execution_count": 80,
   "metadata": {},
   "outputs": [
    {
     "data": {
      "text/plain": [
       "'2019-07-04 07:31:56.343523'"
      ]
     },
     "execution_count": 80,
     "metadata": {},
     "output_type": "execute_result"
    }
   ],
   "source": [
    "x=Post.objects.all()[0].posted_at\n",
    "\n",
    "x.strftime(\"%Y-%m-%d %H:%M:%S.%f\")"
   ]
  },
  {
   "cell_type": "code",
   "execution_count": 345,
   "metadata": {},
   "outputs": [
    {
     "data": {
      "text/plain": [
       "25"
      ]
     },
     "execution_count": 345,
     "metadata": {},
     "output_type": "execute_result"
    }
   ],
   "source": []
  },
  {
   "cell_type": "code",
   "execution_count": 346,
   "metadata": {},
   "outputs": [
    {
     "data": {
      "text/plain": [
       "<QuerySet [<Post: Post object (19)>, <Post: Post object (20)>, <Post: Post object (21)>, <Post: Post object (22)>, <Post: Post object (23)>, <Post: Post object (24)>, <Post: Post object (25)>]>"
      ]
     },
     "execution_count": 346,
     "metadata": {},
     "output_type": "execute_result"
    }
   ],
   "source": [
    "Post.objects.all()"
   ]
  },
  {
   "cell_type": "code",
   "execution_count": null,
   "metadata": {},
   "outputs": [],
   "source": []
  }
 ],
 "metadata": {
  "kernelspec": {
   "display_name": "Python 3",
   "language": "python",
   "name": "python3"
  },
  "language_info": {
   "codemirror_mode": {
    "name": "ipython",
    "version": 3
   },
   "file_extension": ".py",
   "mimetype": "text/x-python",
   "name": "python",
   "nbconvert_exporter": "python",
   "pygments_lexer": "ipython3",
   "version": "3.7.3"
  }
 },
 "nbformat": 4,
 "nbformat_minor": 2
}
