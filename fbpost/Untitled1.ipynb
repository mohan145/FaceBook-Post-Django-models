{
 "cells": [
  {
   "cell_type": "code",
   "execution_count": 1,
   "metadata": {},
   "outputs": [],
   "source": [
    "import django\n",
    "import os\n",
    "os.environ.setdefault('DJANGO_SETTINGS_MODULE', 'fbpost.settings')\n",
    "django.setup()"
   ]
  },
  {
   "cell_type": "code",
   "execution_count": 2,
   "metadata": {
    "scrolled": true
   },
   "outputs": [
    {
     "name": "stdout",
     "output_type": "stream",
     "text": [
      "6\n"
     ]
    }
   ],
   "source": [
    "from django.db import connection\n",
    "from postv1.model_methods import get_post\n",
    "\n",
    "s=len(connection.queries)\n",
    "get_post(20)\n",
    "e=len(connection.queries)\n",
    "\n",
    "print((e-s))"
   ]
  },
  {
   "cell_type": "code",
   "execution_count": 3,
   "metadata": {},
   "outputs": [],
   "source": [
    "from postv1.models import User,Post,Comment,Reaction"
   ]
  },
  {
   "cell_type": "code",
   "execution_count": null,
   "metadata": {},
   "outputs": [],
   "source": []
  },
  {
   "cell_type": "code",
   "execution_count": 4,
   "metadata": {},
   "outputs": [
    {
     "data": {
      "text/plain": [
       "<QuerySet [<Post: Post object (19)>, <Post: Post object (20)>, <Post: Post object (21)>, <Post: Post object (22)>, <Post: Post object (23)>, <Post: Post object (24)>, <Post: Post object (25)>, <Post: Post object (26)>, <Post: Post object (27)>, <Post: Post object (28)>, <Post: Post object (29)>]>"
      ]
     },
     "execution_count": 4,
     "metadata": {},
     "output_type": "execute_result"
    }
   ],
   "source": [
    "Post.objects.all()"
   ]
  },
  {
   "cell_type": "code",
   "execution_count": 5,
   "metadata": {},
   "outputs": [],
   "source": [
    "from postv1.model_methods import get_post"
   ]
  },
  {
   "cell_type": "code",
   "execution_count": 6,
   "metadata": {},
   "outputs": [
    {
     "data": {
      "text/plain": [
       "{'posted_id': 19,\n",
       " 'posted_at': '2019-07-04 07:31:56.343523',\n",
       " 'post_content': 'kmk first post',\n",
       " 'posted_by': {'name': 'kmk', 'user_id': 10, 'profile_pic_url': 'kmk@xyz.com'},\n",
       " 'reactions': {'count': 12, 'type': ['SAD', 'LIKE', 'HAHA', 'ANGRY']},\n",
       " 'comments': [],\n",
       " 'comments_count': 0}"
      ]
     },
     "execution_count": 6,
     "metadata": {},
     "output_type": "execute_result"
    }
   ],
   "source": [
    "get_post(19)"
   ]
  },
  {
   "cell_type": "code",
   "execution_count": null,
   "metadata": {},
   "outputs": [],
   "source": []
  },
  {
   "cell_type": "code",
   "execution_count": null,
   "metadata": {
    "scrolled": true
   },
   "outputs": [],
   "source": []
  },
  {
   "cell_type": "code",
   "execution_count": 7,
   "metadata": {},
   "outputs": [
    {
     "name": "stdout",
     "output_type": "stream",
     "text": [
      "3\n"
     ]
    }
   ],
   "source": [
    "from django.db import connection\n",
    "from postv1.model_methods import get_reactions_to_post\n",
    "\n",
    "s=len(connection.queries)\n",
    "get_reactions_to_post(19)\n",
    "e=len(connection.queries)\n",
    "\n",
    "print((e-s))"
   ]
  },
  {
   "cell_type": "code",
   "execution_count": 8,
   "metadata": {},
   "outputs": [
    {
     "name": "stdout",
     "output_type": "stream",
     "text": [
      "[20, 21, 22, 23, 26, 27, 28, 29]\n",
      "1\n"
     ]
    }
   ],
   "source": [
    "from postv1.model_methods import get_posts_with_more_positive_reactions\n",
    "from django.db import connection\n",
    "\n",
    "\n",
    "s=len(connection.queries)\n",
    "x=get_posts_with_more_positive_reactions()\n",
    "e=len(connection.queries)\n",
    "print(x)\n",
    "print((e-s))"
   ]
  },
  {
   "cell_type": "code",
   "execution_count": 9,
   "metadata": {},
   "outputs": [
    {
     "name": "stdout",
     "output_type": "stream",
     "text": [
      "1\n"
     ]
    }
   ],
   "source": [
    "from enum import Enum\n",
    "from django.db import connection\n",
    "from postv1.model_methods import get_reactions_to_post\n",
    "from django.db.models import Count,Q\n",
    "\n",
    "class ReactionType(Enum):\n",
    "    LOL = \"LOL\"\n",
    "    HAHA = \"HAHA\"\n",
    "    WOW = \"WOW\"\n",
    "    LIKE = \"LIKE\"\n",
    "    SAD = \"SAD\"\n",
    "    ANGRY = \" ANGRY\"\n",
    "    LOVE = \"LOVE\"\n",
    "\n",
    "s=len(connection.queries)\n",
    "\n",
    "pos_reactions = [ReactionType.LOL.value, ReactionType.HAHA.value\n",
    "        , ReactionType.WOW.value, ReactionType.LIKE.value\n",
    "        , ReactionType.LOVE.value]\n",
    "\n",
    "neg_reactions = [ReactionType.SAD.value, ReactionType.ANGRY.value]\n",
    "\n",
    "\n",
    "pos_r = Count('reaction', filter=Q(reaction__in=pos_reactions))\n",
    "neg_r = Count('reaction', filter=Q(reaction__in=neg_reactions))\n",
    "\n",
    "check_count = Reaction.objects.exclude(post=None).values('post_id').annotate(pos_reac=pos_r).annotate(neg_reac=neg_r)\n",
    "\n",
    "\n",
    "for x in check_count:\n",
    "\n",
    "    if x['pos_reac'] > x['neg_reac']:\n",
    "        t=x['post_id']\n",
    "\n",
    "e=len(connection.queries) \n",
    "        \n",
    "print((e-s))\n",
    "\n"
   ]
  },
  {
   "cell_type": "code",
   "execution_count": null,
   "metadata": {},
   "outputs": [],
   "source": []
  },
  {
   "cell_type": "code",
   "execution_count": 10,
   "metadata": {},
   "outputs": [
    {
     "ename": "NameError",
     "evalue": "name 'get_reaction_metrics' is not defined",
     "output_type": "error",
     "traceback": [
      "\u001b[0;31m---------------------------------------------------------------------------\u001b[0m",
      "\u001b[0;31mNameError\u001b[0m                                 Traceback (most recent call last)",
      "\u001b[0;32m<ipython-input-10-24007b36c1fd>\u001b[0m in \u001b[0;36m<module>\u001b[0;34m\u001b[0m\n\u001b[1;32m      5\u001b[0m \u001b[0;34m\u001b[0m\u001b[0m\n\u001b[1;32m      6\u001b[0m \u001b[0ms\u001b[0m\u001b[0;34m=\u001b[0m\u001b[0mlen\u001b[0m\u001b[0;34m(\u001b[0m\u001b[0mconnection\u001b[0m\u001b[0;34m.\u001b[0m\u001b[0mqueries\u001b[0m\u001b[0;34m)\u001b[0m\u001b[0;34m\u001b[0m\u001b[0;34m\u001b[0m\u001b[0m\n\u001b[0;32m----> 7\u001b[0;31m \u001b[0mx\u001b[0m\u001b[0;34m=\u001b[0m\u001b[0mget_reaction_metrics\u001b[0m\u001b[0;34m(\u001b[0m\u001b[0;36m19\u001b[0m\u001b[0;34m)\u001b[0m\u001b[0;34m\u001b[0m\u001b[0;34m\u001b[0m\u001b[0m\n\u001b[0m\u001b[1;32m      8\u001b[0m \u001b[0me\u001b[0m\u001b[0;34m=\u001b[0m\u001b[0mlen\u001b[0m\u001b[0;34m(\u001b[0m\u001b[0mconnection\u001b[0m\u001b[0;34m.\u001b[0m\u001b[0mqueries\u001b[0m\u001b[0;34m)\u001b[0m\u001b[0;34m\u001b[0m\u001b[0;34m\u001b[0m\u001b[0m\n\u001b[1;32m      9\u001b[0m \u001b[0mprint\u001b[0m\u001b[0;34m(\u001b[0m\u001b[0mx\u001b[0m\u001b[0;34m)\u001b[0m\u001b[0;34m\u001b[0m\u001b[0;34m\u001b[0m\u001b[0m\n",
      "\u001b[0;31mNameError\u001b[0m: name 'get_reaction_metrics' is not defined"
     ]
    }
   ],
   "source": [
    "from django.db import connection\n",
    "\n",
    "\n",
    "\n",
    "\n",
    "s=len(connection.queries)\n",
    "x=get_reaction_metrics(19)\n",
    "e=len(connection.queries)\n",
    "print(x)\n",
    "print((e-s))"
   ]
  },
  {
   "cell_type": "code",
   "execution_count": null,
   "metadata": {},
   "outputs": [],
   "source": [
    "p=Post.objects.all()[0].id\n",
    "u=User.objects.all()[0].id\n"
   ]
  },
  {
   "cell_type": "code",
   "execution_count": null,
   "metadata": {},
   "outputs": [],
   "source": [
    "from postv1.model_methods import add_comment\n",
    "from django.db import connection\n",
    "\n",
    "\n",
    "\n",
    "\n",
    "s=len(connection.queries)\n",
    "add_comment(19,10,'opt test')\n",
    "e=len(connection.queries)\n",
    "\n",
    "print((e-s))\n",
    "\n"
   ]
  },
  {
   "cell_type": "code",
   "execution_count": null,
   "metadata": {},
   "outputs": [],
   "source": [
    "from postv1.model_methods import react_to_comment"
   ]
  },
  {
   "cell_type": "code",
   "execution_count": null,
   "metadata": {},
   "outputs": [],
   "source": [
    "\n",
    "from django.db import connection\n",
    "\n",
    "\n",
    "\n",
    "\n",
    "s=len(connection.queries)\n",
    "react_to_comment(10,1,'WOW')\n",
    "e=len(connection.queries)\n",
    "\n",
    "print((e-s))\n"
   ]
  },
  {
   "cell_type": "code",
   "execution_count": null,
   "metadata": {},
   "outputs": [],
   "source": [
    "Comment.objects.all()[0].reactions.all()[0].reaction"
   ]
  },
  {
   "cell_type": "code",
   "execution_count": null,
   "metadata": {},
   "outputs": [],
   "source": []
  },
  {
   "cell_type": "code",
   "execution_count": null,
   "metadata": {},
   "outputs": [],
   "source": []
  },
  {
   "cell_type": "code",
   "execution_count": null,
   "metadata": {},
   "outputs": [],
   "source": []
  },
  {
   "cell_type": "code",
   "execution_count": null,
   "metadata": {},
   "outputs": [],
   "source": []
  },
  {
   "cell_type": "code",
   "execution_count": null,
   "metadata": {},
   "outputs": [],
   "source": []
  },
  {
   "cell_type": "code",
   "execution_count": null,
   "metadata": {},
   "outputs": [],
   "source": []
  },
  {
   "cell_type": "code",
   "execution_count": null,
   "metadata": {},
   "outputs": [],
   "source": []
  },
  {
   "cell_type": "code",
   "execution_count": null,
   "metadata": {},
   "outputs": [],
   "source": [
    "from postv1.model_methods import get_post"
   ]
  },
  {
   "cell_type": "code",
   "execution_count": null,
   "metadata": {},
   "outputs": [],
   "source": []
  },
  {
   "cell_type": "code",
   "execution_count": null,
   "metadata": {},
   "outputs": [],
   "source": [
    "Post.objects.get(id=19).comments.all()[0].replies.count()"
   ]
  },
  {
   "cell_type": "code",
   "execution_count": null,
   "metadata": {},
   "outputs": [],
   "source": [
    "from postv1.model_methods import get_replies_for_comment"
   ]
  },
  {
   "cell_type": "code",
   "execution_count": null,
   "metadata": {},
   "outputs": [],
   "source": [
    "get_replies_for_comment(1)"
   ]
  },
  {
   "cell_type": "code",
   "execution_count": null,
   "metadata": {},
   "outputs": [],
   "source": [
    "r=Post.objects.all()[0].reactions.all()\n",
    "def get_reactions_data(reactions):\n",
    "    reaction_data = {}\n",
    "\n",
    "    reaction_data.update({\"count\": len(reactions)})\n",
    "\n",
    "    types = reactions.values_list('reaction', flat=True).distinct()\n",
    "    reaction_data.update({\"type\": list(types)})\n",
    "\n",
    "    return reaction_data\n",
    "\n",
    "\n",
    "from django.db import connection\n",
    "\n",
    "s=len(connection.queries)\n",
    "get_reactions_data(r)\n",
    "e=len(connection.queries)\n",
    "\n",
    "print((e-s))\n"
   ]
  },
  {
   "cell_type": "code",
   "execution_count": null,
   "metadata": {},
   "outputs": [],
   "source": [
    "c=Post.objects.all()[0].comments.all()[0]\n",
    "\n",
    "\n",
    "def get_user_data(user):\n",
    "    # done\n",
    "    user_data = {}\n",
    "    user_data.update({\"name\": user.name})\n",
    "    user_data.update({\"user_id\": user.id})\n",
    "    user_data.update({\"profile_pic_url\": user.profile_pic_url})\n",
    "\n",
    "    return user_data\n",
    "\n",
    "\n",
    "def get_reactions_data(reactions):\n",
    "    reaction_data = {}\n",
    "\n",
    "    reaction_data.update({\"count\": len(reactions)})\n",
    "\n",
    "    types = reactions.values_list('reaction', flat=True).distinct()\n",
    "    reaction_data.update({\"type\": list(types)})\n",
    "\n",
    "    return reaction_data\n",
    "\n",
    "def get_comment(comment):\n",
    "    res_dict = dict()\n",
    "    res_dict.update({\"comment_id\": comment.id})\n",
    "\n",
    "    # user data\n",
    "    #user = User.objects.get(id=comment.commented_by.id)\n",
    "\n",
    "    user_data = get_user_data(comment.commented_by)\n",
    "\n",
    "    res_dict.update({\"commenter\": user_data})\n",
    "    res_dict.update({\"commented_at\": comment.commented_at.strftime(\"%Y-%m-%d %H:%M:%S.%f\")})\n",
    "    res_dict.update({\"comment_content:\": comment.content})\n",
    "\n",
    "    # fetching reactions data\n",
    "    reaction_data = get_reactions_data(comment.reactions.all())\n",
    "    res_dict.update({\"reactions\": reaction_data})\n",
    "\n",
    "    if comment.post is not None:\n",
    "        res_dict.update({'replies_count': len(comment.replies.all())})\n",
    "\n",
    "        replies_list = list()\n",
    "\n",
    "        for reply in comment.replies.all():\n",
    "            reply_data = get_comment(reply)\n",
    "            replies_list.append(reply_data)\n",
    "\n",
    "        res_dict.update({'replies': replies_list})\n",
    "\n",
    "    return res_dict\n",
    "\n",
    "\n",
    "\n",
    "from django.db import connection\n",
    "\n",
    "s=len(connection.queries)\n",
    "get_comment(c)\n",
    "e=len(connection.queries)\n",
    "print(e-s)"
   ]
  },
  {
   "cell_type": "code",
   "execution_count": null,
   "metadata": {},
   "outputs": [],
   "source": [
    "connection.queries"
   ]
  },
  {
   "cell_type": "code",
   "execution_count": null,
   "metadata": {},
   "outputs": [],
   "source": [
    "Post.objects.all()[0].comments.all()[0].replies.filter(id__gte=3).delete()"
   ]
  },
  {
   "cell_type": "code",
   "execution_count": null,
   "metadata": {},
   "outputs": [],
   "source": [
    "get_post(20)"
   ]
  },
  {
   "cell_type": "code",
   "execution_count": null,
   "metadata": {},
   "outputs": [],
   "source": [
    "c=Comment.objects.all()[0]\n",
    "c.content"
   ]
  },
  {
   "cell_type": "code",
   "execution_count": null,
   "metadata": {},
   "outputs": [],
   "source": [
    "r=Comment.objects.all()[1]"
   ]
  },
  {
   "cell_type": "code",
   "execution_count": null,
   "metadata": {},
   "outputs": [],
   "source": [
    "r.content"
   ]
  },
  {
   "cell_type": "code",
   "execution_count": null,
   "metadata": {},
   "outputs": [],
   "source": [
    "react=Reaction.objects.all()[0]\n",
    "react.reaction"
   ]
  },
  {
   "cell_type": "code",
   "execution_count": null,
   "metadata": {},
   "outputs": [],
   "source": [
    "p=Post.objects.all()[1]\n",
    "p.comments.create()"
   ]
  },
  {
   "cell_type": "code",
   "execution_count": null,
   "metadata": {},
   "outputs": [],
   "source": [
    "p.comments.all()"
   ]
  },
  {
   "cell_type": "code",
   "execution_count": null,
   "metadata": {},
   "outputs": [],
   "source": [
    "p=Post.objects.all()[1]"
   ]
  },
  {
   "cell_type": "code",
   "execution_count": null,
   "metadata": {},
   "outputs": [],
   "source": [
    "c=p=Post.objects.all()[1].comments.all()\n",
    "\n"
   ]
  },
  {
   "cell_type": "code",
   "execution_count": null,
   "metadata": {},
   "outputs": [],
   "source": [
    "get_post(p.id)"
   ]
  },
  {
   "cell_type": "code",
   "execution_count": null,
   "metadata": {},
   "outputs": [],
   "source": [
    "c4=Comment.objects.create(content=\"fourth comment\",commented_by=User.objects.all()[0])"
   ]
  },
  {
   "cell_type": "code",
   "execution_count": null,
   "metadata": {},
   "outputs": [],
   "source": [
    "Post.objects.all()[1].comments.add(c4)"
   ]
  },
  {
   "cell_type": "code",
   "execution_count": null,
   "metadata": {},
   "outputs": [],
   "source": [
    "c6=Comment.objects.create(content=\"fifth comment\",commented_by=User.objects.all()[0])"
   ]
  },
  {
   "cell_type": "code",
   "execution_count": null,
   "metadata": {},
   "outputs": [],
   "source": [
    "Post.objects.all()[1].comments.add(c6)"
   ]
  },
  {
   "cell_type": "code",
   "execution_count": null,
   "metadata": {},
   "outputs": [],
   "source": [
    "get_post(20)"
   ]
  },
  {
   "cell_type": "code",
   "execution_count": null,
   "metadata": {},
   "outputs": [],
   "source": []
  },
  {
   "cell_type": "code",
   "execution_count": null,
   "metadata": {},
   "outputs": [],
   "source": [
    "from postv1.model_methods import get_user_posts ,get_post\n",
    "from django.db import connection\n",
    "\n",
    "s=len(connection.queries)\n",
    "get_user_posts(11)\n",
    "e=len(connection.queries)\n",
    "\n",
    "print(e-s)"
   ]
  },
  {
   "cell_type": "code",
   "execution_count": null,
   "metadata": {},
   "outputs": [],
   "source": [
    "get_user_posts(11)"
   ]
  },
  {
   "cell_type": "code",
   "execution_count": null,
   "metadata": {},
   "outputs": [],
   "source": [
    "from postv1.model_methods import get_replies_for_comment"
   ]
  },
  {
   "cell_type": "code",
   "execution_count": null,
   "metadata": {},
   "outputs": [],
   "source": [
    "from postv1.model_methods import get_user_posts ,get_post\n",
    "from django.db import connection\n",
    "\n",
    "s=len(connection.queries)\n",
    "get_replies_for_comment(1)\n",
    "e=len(connection.queries)\n",
    "\n",
    "print(e-s)"
   ]
  },
  {
   "cell_type": "code",
   "execution_count": null,
   "metadata": {},
   "outputs": [],
   "source": [
    "get_replies_for_comment(1)\n"
   ]
  },
  {
   "cell_type": "code",
   "execution_count": null,
   "metadata": {},
   "outputs": [],
   "source": [
    "rp=Comment.objects.all()[1]"
   ]
  },
  {
   "cell_type": "code",
   "execution_count": null,
   "metadata": {},
   "outputs": [],
   "source": [
    "rp.content"
   ]
  },
  {
   "cell_type": "code",
   "execution_count": null,
   "metadata": {},
   "outputs": [],
   "source": [
    "c=Comment.objects.all()[0]\n",
    "c.id"
   ]
  },
  {
   "cell_type": "code",
   "execution_count": null,
   "metadata": {},
   "outputs": [],
   "source": [
    "c.replies.add(rp)"
   ]
  },
  {
   "cell_type": "code",
   "execution_count": null,
   "metadata": {},
   "outputs": [],
   "source": [
    "c.replies.count()"
   ]
  },
  {
   "cell_type": "code",
   "execution_count": null,
   "metadata": {},
   "outputs": [],
   "source": [
    "Comment.objects.all()"
   ]
  },
  {
   "cell_type": "code",
   "execution_count": null,
   "metadata": {},
   "outputs": [],
   "source": [
    "p=Post.objects.filter(id=20)"
   ]
  },
  {
   "cell_type": "code",
   "execution_count": null,
   "metadata": {},
   "outputs": [],
   "source": [
    "p"
   ]
  },
  {
   "cell_type": "code",
   "execution_count": null,
   "metadata": {},
   "outputs": [],
   "source": [
    "p[0].posted_by"
   ]
  },
  {
   "cell_type": "code",
   "execution_count": null,
   "metadata": {},
   "outputs": [],
   "source": [
    "User.objects.all()[0].id"
   ]
  },
  {
   "cell_type": "code",
   "execution_count": null,
   "metadata": {},
   "outputs": [],
   "source": [
    "from postv1.model_methods import get_user_posts ,get_post ,get_posts_reacted_by_user\n",
    "from django.db import connection\n",
    "\n",
    "s=len(connection.queries)\n",
    "\n",
    "get_posts_reacted_by_user(11)\n",
    "\n",
    "e=len(connection.queries)\n",
    "\n",
    "print(e-s)"
   ]
  },
  {
   "cell_type": "code",
   "execution_count": null,
   "metadata": {},
   "outputs": [],
   "source": [
    "get_posts_reacted_by_user(11)\n",
    "\n"
   ]
  },
  {
   "cell_type": "code",
   "execution_count": null,
   "metadata": {},
   "outputs": [],
   "source": []
  },
  {
   "cell_type": "code",
   "execution_count": 18,
   "metadata": {},
   "outputs": [
    {
     "name": "stdout",
     "output_type": "stream",
     "text": [
      "4\n"
     ]
    }
   ],
   "source": [
    "from postv1.model_methods import get_replies_for_comment\n",
    "\n",
    "\n",
    "from django.db import connection\n",
    "\n",
    "s=len(connection.queries)\n",
    "\n",
    "get_replies_for_comment(1)\n",
    "\n",
    "e=len(connection.queries)\n",
    "\n",
    "print(e-s)\n"
   ]
  },
  {
   "cell_type": "code",
   "execution_count": 19,
   "metadata": {},
   "outputs": [
    {
     "data": {
      "text/plain": [
       "[{'comment_id': 2,\n",
       "  'commenter': {'name': 'kmk',\n",
       "   'user_id': 10,\n",
       "   'profile_pic_url': 'kmk@xyz.com'},\n",
       "  'commented_at': '2019-07-04 11:14:28.938529',\n",
       "  'comment_content:': 'reply to a comment',\n",
       "  'reactions': {'count': 0, 'type': []}},\n",
       " {'comment_id': 20,\n",
       "  'commenter': {'name': 'kmk',\n",
       "   'user_id': 10,\n",
       "   'profile_pic_url': 'kmk@xyz.com'},\n",
       "  'commented_at': '2019-07-11 06:15:14.122469',\n",
       "  'comment_content:': 'reply to comment',\n",
       "  'reactions': {'count': 0, 'type': []}},\n",
       " {'comment_id': 21,\n",
       "  'commenter': {'name': 'kmk',\n",
       "   'user_id': 10,\n",
       "   'profile_pic_url': 'kmk@xyz.com'},\n",
       "  'commented_at': '2019-07-11 06:15:43.412347',\n",
       "  'comment_content:': 'reply3 to comment ',\n",
       "  'reactions': {'count': 0, 'type': []}},\n",
       " {'comment_id': 22,\n",
       "  'commenter': {'name': 'kmk',\n",
       "   'user_id': 10,\n",
       "   'profile_pic_url': 'kmk@xyz.com'},\n",
       "  'commented_at': '2019-07-11 06:15:49.502031',\n",
       "  'comment_content:': 'reply4 to comment ',\n",
       "  'reactions': {'count': 0, 'type': []}},\n",
       " {'comment_id': 23,\n",
       "  'commenter': {'name': 'kmk',\n",
       "   'user_id': 10,\n",
       "   'profile_pic_url': 'kmk@xyz.com'},\n",
       "  'commented_at': '2019-07-11 06:18:17.672064',\n",
       "  'comment_content:': 'reply5 to comment ',\n",
       "  'reactions': {'count': 0, 'type': []}}]"
      ]
     },
     "execution_count": 19,
     "metadata": {},
     "output_type": "execute_result"
    }
   ],
   "source": [
    "get_replies_for_comment(1)"
   ]
  },
  {
   "cell_type": "code",
   "execution_count": 15,
   "metadata": {},
   "outputs": [],
   "source": [
    "u=User.objects.all()[0]\n",
    "\n",
    "comment=Comment.objects.all()[0]"
   ]
  },
  {
   "cell_type": "code",
   "execution_count": 17,
   "metadata": {},
   "outputs": [
    {
     "data": {
      "text/plain": [
       "<QuerySet [<Comment: Comment object (2)>, <Comment: Comment object (20)>, <Comment: Comment object (21)>, <Comment: Comment object (22)>, <Comment: Comment object (23)>]>"
      ]
     },
     "execution_count": 17,
     "metadata": {},
     "output_type": "execute_result"
    }
   ],
   "source": [
    "comment.replies.all()"
   ]
  },
  {
   "cell_type": "code",
   "execution_count": 16,
   "metadata": {},
   "outputs": [
    {
     "data": {
      "text/plain": [
       "<Comment: Comment object (23)>"
      ]
     },
     "execution_count": 16,
     "metadata": {},
     "output_type": "execute_result"
    }
   ],
   "source": [
    "comment.replies.create(content=\"reply5 to comment \",commented_by=u)"
   ]
  },
  {
   "cell_type": "code",
   "execution_count": null,
   "metadata": {},
   "outputs": [],
   "source": []
  }
 ],
 "metadata": {
  "kernelspec": {
   "display_name": "Python 3",
   "language": "python",
   "name": "python3"
  },
  "language_info": {
   "codemirror_mode": {
    "name": "ipython",
    "version": 3
   },
   "file_extension": ".py",
   "mimetype": "text/x-python",
   "name": "python",
   "nbconvert_exporter": "python",
   "pygments_lexer": "ipython3",
   "version": "3.7.3"
  }
 },
 "nbformat": 4,
 "nbformat_minor": 2
}
